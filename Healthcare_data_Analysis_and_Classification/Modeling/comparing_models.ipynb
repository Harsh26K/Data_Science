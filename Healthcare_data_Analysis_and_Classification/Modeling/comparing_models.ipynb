{
 "cells": [
  {
   "cell_type": "code",
   "execution_count": 1,
   "metadata": {},
   "outputs": [
    {
     "name": "stdout",
     "output_type": "stream",
     "text": [
      "Requirement already satisfied: imblearn in c:\\users\\harsh\\appdata\\local\\programs\\python\\python38\\lib\\site-packages (0.0)\n",
      "Requirement already satisfied: imbalanced-learn in c:\\users\\harsh\\appdata\\local\\programs\\python\\python38\\lib\\site-packages (from imblearn) (0.12.0)Note: you may need to restart the kernel to use updated packages.\n"
     ]
    },
    {
     "name": "stderr",
     "output_type": "stream",
     "text": [
      "\n",
      "[notice] A new release of pip is available: 23.3.2 -> 24.0\n"
     ]
    },
    {
     "name": "stdout",
     "output_type": "stream",
     "text": [
      "\n",
      "Requirement already satisfied: numpy>=1.17.3 in c:\\users\\harsh\\appdata\\local\\programs\\python\\python38\\lib\\site-packages (from imbalanced-learn->imblearn) (1.21.2)\n",
      "Requirement already satisfied: scipy>=1.5.0 in c:\\users\\harsh\\appdata\\local\\programs\\python\\python38\\lib\\site-packages (from imbalanced-learn->imblearn) (1.7.1)\n",
      "Requirement already satisfied: scikit-learn>=1.0.2 in c:\\users\\harsh\\appdata\\local\\programs\\python\\python38\\lib\\site-packages (from imbalanced-learn->imblearn) (1.3.2)\n",
      "Requirement already satisfied: joblib>=1.1.1 in c:\\users\\harsh\\appdata\\local\\programs\\python\\python38\\lib\\site-packages (from imbalanced-learn->imblearn) (1.3.2)\n",
      "Requirement already satisfied: threadpoolctl>=2.0.0 in c:\\users\\harsh\\appdata\\local\\programs\\python\\python38\\lib\\site-packages (from imbalanced-learn->imblearn) (2.2.0)\n"
     ]
    },
    {
     "name": "stderr",
     "output_type": "stream",
     "text": [
      "[notice] To update, run: python.exe -m pip install --upgrade pip\n"
     ]
    }
   ],
   "source": [
    "%pip install imblearn"
   ]
  },
  {
   "cell_type": "code",
   "execution_count": 2,
   "metadata": {},
   "outputs": [
    {
     "name": "stdout",
     "output_type": "stream",
     "text": [
      "Requirement already satisfied: xgboost in c:\\users\\harsh\\appdata\\local\\programs\\python\\python38\\lib\\site-packages (2.0.3)\n",
      "Requirement already satisfied: numpy in c:\\users\\harsh\\appdata\\local\\programs\\python\\python38\\lib\\site-packages (from xgboost) (1.21.2)\n",
      "Requirement already satisfied: scipy in c:\\users\\harsh\\appdata\\local\\programs\\python\\python38\\lib\\site-packages (from xgboost) (1.7.1)\n",
      "Note: you may need to restart the kernel to use updated packages.\n"
     ]
    },
    {
     "name": "stderr",
     "output_type": "stream",
     "text": [
      "\n",
      "[notice] A new release of pip is available: 23.3.2 -> 24.0\n",
      "[notice] To update, run: python.exe -m pip install --upgrade pip\n"
     ]
    }
   ],
   "source": [
    "%pip install xgboost"
   ]
  },
  {
   "cell_type": "code",
   "execution_count": 11,
   "metadata": {},
   "outputs": [],
   "source": [
    "import numpy as np\n",
    "import pandas as pd\n",
    "import matplotlib.pyplot as plt\n",
    "import seaborn as sns\n",
    "\n",
    "from imblearn.over_sampling import SMOTE\n",
    "\n",
    "from sklearn.preprocessing import MinMaxScaler\n",
    "from sklearn.model_selection import train_test_split\n",
    "\n",
    "from sklearn.tree import DecisionTreeClassifier\n",
    "from sklearn.neighbors import KNeighborsClassifier\n",
    "from sklearn.linear_model import LogisticRegression\n",
    "from sklearn.svm import SVC\n",
    "from sklearn.ensemble import RandomForestClassifier\n",
    "from xgboost import XGBClassifier\n",
    "\n",
    "from sklearn.metrics import classification_report,confusion_matrix\n",
    "from sklearn.metrics import accuracy_score,precision_score,recall_score,f1_score,roc_auc_score"
   ]
  },
  {
   "cell_type": "code",
   "execution_count": 5,
   "metadata": {},
   "outputs": [],
   "source": [
    "df = pd.read_csv('../stroke_data_cleaned.csv')"
   ]
  },
  {
   "cell_type": "code",
   "execution_count": 6,
   "metadata": {},
   "outputs": [
    {
     "name": "stderr",
     "output_type": "stream",
     "text": [
      "C:\\Users\\harsh\\AppData\\Local\\Temp/ipykernel_19292/2893403509.py:8: SettingWithCopyWarning: \n",
      "A value is trying to be set on a copy of a slice from a DataFrame.\n",
      "Try using .loc[row_indexer,col_indexer] = value instead\n",
      "\n",
      "See the caveats in the documentation: https://pandas.pydata.org/pandas-docs/stable/user_guide/indexing.html#returning-a-view-versus-a-copy\n",
      "  df2['gender'] = df2['gender'].map(gender_labels)\n",
      "C:\\Users\\harsh\\AppData\\Local\\Temp/ipykernel_19292/2893403509.py:9: SettingWithCopyWarning: \n",
      "A value is trying to be set on a copy of a slice from a DataFrame.\n",
      "Try using .loc[row_indexer,col_indexer] = value instead\n",
      "\n",
      "See the caveats in the documentation: https://pandas.pydata.org/pandas-docs/stable/user_guide/indexing.html#returning-a-view-versus-a-copy\n",
      "  df2['ever_married'] = df2['ever_married'].map(ever_married_labels)\n",
      "C:\\Users\\harsh\\AppData\\Local\\Temp/ipykernel_19292/2893403509.py:10: SettingWithCopyWarning: \n",
      "A value is trying to be set on a copy of a slice from a DataFrame.\n",
      "Try using .loc[row_indexer,col_indexer] = value instead\n",
      "\n",
      "See the caveats in the documentation: https://pandas.pydata.org/pandas-docs/stable/user_guide/indexing.html#returning-a-view-versus-a-copy\n",
      "  df2['work_type'] = df2['work_type'].map(work_type_labels)\n",
      "C:\\Users\\harsh\\AppData\\Local\\Temp/ipykernel_19292/2893403509.py:11: SettingWithCopyWarning: \n",
      "A value is trying to be set on a copy of a slice from a DataFrame.\n",
      "Try using .loc[row_indexer,col_indexer] = value instead\n",
      "\n",
      "See the caveats in the documentation: https://pandas.pydata.org/pandas-docs/stable/user_guide/indexing.html#returning-a-view-versus-a-copy\n",
      "  df2['Residence_type'] = df2['Residence_type'].map(residence_type_labels)\n",
      "C:\\Users\\harsh\\AppData\\Local\\Temp/ipykernel_19292/2893403509.py:12: SettingWithCopyWarning: \n",
      "A value is trying to be set on a copy of a slice from a DataFrame.\n",
      "Try using .loc[row_indexer,col_indexer] = value instead\n",
      "\n",
      "See the caveats in the documentation: https://pandas.pydata.org/pandas-docs/stable/user_guide/indexing.html#returning-a-view-versus-a-copy\n",
      "  df2['smoking_status'] = df2['smoking_status'].map(smoking_status_labels)\n"
     ]
    }
   ],
   "source": [
    "df2 = df[df.columns[1:12]]\n",
    "gender_labels = {'Male':0,'Female':1}\n",
    "ever_married_labels = {'Yes':0,'No':1}\n",
    "work_type_labels = {'Private' : 0, 'Self-employed' : 1, 'Govt_job' : 2, 'children' : 3, 'Never_worked' : 4}\n",
    "residence_type_labels = {'Urban' : 0, 'Rural' : 1}\n",
    "smoking_status_labels = {'formerly smoked' : 0, 'never smoked' : 1, 'smokes' : 2, 'Unknown' : 3}\n",
    "\n",
    "df2['gender'] = df2['gender'].map(gender_labels)\n",
    "df2['ever_married'] = df2['ever_married'].map(ever_married_labels)\n",
    "df2['work_type'] = df2['work_type'].map(work_type_labels)\n",
    "df2['Residence_type'] = df2['Residence_type'].map(residence_type_labels)\n",
    "df2['smoking_status'] = df2['smoking_status'].map(smoking_status_labels)"
   ]
  },
  {
   "cell_type": "code",
   "execution_count": 7,
   "metadata": {},
   "outputs": [],
   "source": [
    "X = df2.drop(columns='stroke').values\n",
    "y = df2['stroke'].values\n",
    "\n",
    "X = MinMaxScaler().fit_transform(X)\n",
    "\n",
    "X_train,X_test,y_train,y_test = train_test_split(X,y,test_size=0.3,random_state=5)"
   ]
  },
  {
   "cell_type": "code",
   "execution_count": 8,
   "metadata": {},
   "outputs": [],
   "source": [
    "sm = SMOTE(random_state=2)\n",
    "\n",
    "x_train_res, y_train_res = sm.fit_resample(X_train, y_train.ravel())"
   ]
  },
  {
   "cell_type": "code",
   "execution_count": 9,
   "metadata": {},
   "outputs": [],
   "source": [
    "# Best models from each classifier\n",
    "\n",
    "dt = DecisionTreeClassifier(\n",
    "    criterion='entropy',\n",
    "    max_depth = 20,\n",
    "    min_samples_leaf = 5,\n",
    "    random_state = 35\n",
    ")\n",
    "\n",
    "knn = KNeighborsClassifier(\n",
    "    n_neighbors = 7,\n",
    "    metric = 'euclidean',\n",
    "    weights = 'distance'\n",
    ")\n",
    "\n",
    "lr = LogisticRegression(\n",
    "    C = 0.25,\n",
    "    penalty = 'l2'\n",
    ")\n",
    "\n",
    "rf = RandomForestClassifier(\n",
    "    n_estimators = 200,\n",
    "    criterion = 'entropy'\n",
    ")\n",
    "\n",
    "svc = SVC(\n",
    "    C = 1,\n",
    "    kernel = 'rbf'\n",
    ")\n",
    "\n",
    "xgb = XGBClassifier(\n",
    "    objective = 'binary:logistic',\n",
    "                learning_rate = 0.2,\n",
    "                max_depth = 6,\n",
    "                gamma = 0.0,\n",
    "                scoring = 'roc_auc',\n",
    "                eval_metric = 'error',\n",
    "                cv = 10\n",
    ")"
   ]
  },
  {
   "cell_type": "code",
   "execution_count": 10,
   "metadata": {},
   "outputs": [
    {
     "name": "stderr",
     "output_type": "stream",
     "text": [
      "c:\\Users\\harsh\\AppData\\Local\\Programs\\Python\\Python38\\lib\\site-packages\\xgboost\\core.py:160: UserWarning: [18:44:03] WARNING: C:\\buildkite-agent\\builds\\buildkite-windows-cpu-autoscaling-group-i-0b3782d1791676daf-1\\xgboost\\xgboost-ci-windows\\src\\learner.cc:742: \n",
      "Parameters: { \"cv\", \"scoring\" } are not used.\n",
      "\n",
      "  warnings.warn(smsg, UserWarning)\n"
     ]
    }
   ],
   "source": [
    "dt_model = dt.fit(x_train_res,y_train_res)\n",
    "knn_model = knn.fit(x_train_res,y_train_res)\n",
    "lr_model = lr.fit(x_train_res,y_train_res)\n",
    "rf_model = rf.fit(x_train_res,y_train_res)\n",
    "svc_model = svc.fit(x_train_res,y_train_res)\n",
    "xgb_model = xgb.fit(x_train_res,y_train_res)\n",
    "\n",
    "dt_pred = dt_model.predict(X_test)\n",
    "knn_pred = knn_model.predict(X_test)\n",
    "lr_pred = lr_model.predict(X_test)\n",
    "rf_pred = rf_model.predict(X_test)\n",
    "svc_pred = svc_model.predict(X_test)\n",
    "xgb_pred = xgb_model.predict(X_test)"
   ]
  },
  {
   "cell_type": "code",
   "execution_count": 16,
   "metadata": {},
   "outputs": [],
   "source": [
    "# Make dataframes to plot\n",
    "\n",
    "rf_df = pd.DataFrame(data=[f1_score(y_test,rf_pred),accuracy_score(y_test, rf_pred), recall_score(y_test, rf_pred),\n",
    "                   precision_score(y_test, rf_pred), roc_auc_score(y_test, rf_pred)], \n",
    "             columns=['Random Forest Score'],\n",
    "             index=[\"F1\",\"Accuracy\", \"Recall\", \"Precision\", \"ROC AUC Score\"])\n",
    "\n",
    "svc_df = pd.DataFrame(data=[f1_score(y_test,svc_pred),accuracy_score(y_test, svc_pred), recall_score(y_test, svc_pred),\n",
    "                   precision_score(y_test, svc_pred), roc_auc_score(y_test, svc_pred)], \n",
    "             columns=['Support Vector Machine (SVC) Score'],\n",
    "             index=[\"F1\",\"Accuracy\", \"Recall\", \"Precision\", \"ROC AUC Score\"])\n",
    "\n",
    "lr_df = pd.DataFrame(data=[f1_score(y_test,lr_pred),accuracy_score(y_test, lr_pred), recall_score(y_test, lr_pred),\n",
    "                   precision_score(y_test, lr_pred), roc_auc_score(y_test, lr_pred)], \n",
    "             columns=['Logistic Regression Score'],\n",
    "             index=[\"F1\",\"Accuracy\", \"Recall\", \"Precision\", \"ROC AUC Score\"])\n",
    "\n",
    "knn_df = pd.DataFrame(data=[f1_score(y_test,knn_pred),accuracy_score(y_test, knn_pred), recall_score(y_test, knn_pred),\n",
    "                   precision_score(y_test, knn_pred), roc_auc_score(y_test, knn_pred)], \n",
    "             columns=['KNN Score'],\n",
    "             index=[\"F1\",\"Accuracy\", \"Recall\", \"Precision\", \"ROC AUC Score\"])\n",
    "\n",
    "dt_df = pd.DataFrame(data=[f1_score(y_test,dt_pred),accuracy_score(y_test, dt_pred), recall_score(y_test, dt_pred),\n",
    "                   precision_score(y_test, dt_pred), roc_auc_score(y_test, dt_pred)], \n",
    "             columns=['Decision Tree Score'],\n",
    "             index=[\"F1\",\"Accuracy\", \"Recall\", \"Precision\", \"ROC AUC Score\"])\n",
    "\n",
    "xgb_df = pd.DataFrame(data=[f1_score(y_test,xgb_pred),accuracy_score(y_test, xgb_pred), recall_score(y_test, xgb_pred),\n",
    "                   precision_score(y_test, xgb_pred), roc_auc_score(y_test, xgb_pred)], \n",
    "             columns=['XGBoost Score'],\n",
    "             index=[\"F1\",\"Accuracy\", \"Recall\", \"Precision\", \"ROC AUC Score\"])"
   ]
  },
  {
   "cell_type": "code",
   "execution_count": 24,
   "metadata": {},
   "outputs": [
    {
     "data": {
      "image/png": "[encoded data removed]",
      "text/plain": [
       "<Figure size 720x576 with 2 Axes>"
      ]
     },
     "metadata": {},
     "output_type": "display_data"
    }
   ],
   "source": [
    "df_models1 = round(pd.concat([rf_df,svc_df,lr_df], axis=1),3)\n",
    "df_models2 = round(pd.concat([knn_df,dt_df,xgb_df],axis=1),3)\n",
    "import matplotlib\n",
    "colors = [\"lightgray\",\"lightgray\",\"#0f4c81\"]\n",
    "colormap = matplotlib.colors.LinearSegmentedColormap.from_list(\"\", colors)\n",
    "\n",
    "background_color = \"#fbfbfb\"\n",
    "\n",
    "fig = plt.figure(figsize=(10,8)) # create figure\n",
    "gs = fig.add_gridspec(4, 2)\n",
    "gs.update(wspace=0.1, hspace=0.5)\n",
    "ax0 = fig.add_subplot(gs[0, :])\n",
    "\n",
    "sns.heatmap(df_models1.T, cmap=colormap,annot=True,fmt=\".1%\",vmin=0,vmax=0.95, linewidths=2.5,cbar=False,ax=ax0,annot_kws={\"fontsize\":12})\n",
    "fig.patch.set_facecolor(background_color) # figure background color\n",
    "ax0.set_facecolor(background_color) \n",
    "\n",
    "ax0.text(2,-1.15,'Model Comparison',fontsize=18,fontweight='bold',fontfamily='serif',horizontalalignment='center')\n",
    "ax0.tick_params(axis=u'both', which=u'both',length=0)\n",
    "\n",
    "ax1 = fig.add_subplot(gs[1, :])\n",
    "\n",
    "sns.heatmap(df_models2.T, cmap=colormap,annot=True,fmt=\".1%\",vmin=0,vmax=0.95, linewidths=2.5,cbar=False,ax=ax1,annot_kws={\"fontsize\":12})\n",
    "fig.patch.set_facecolor(background_color) # figure background color\n",
    "ax1.set_facecolor(background_color) \n",
    "\n",
    "ax1.tick_params(axis=u'both', which=u'both',length=0)\n",
    "\n",
    "\n",
    "plt.show()"
   ]
  }
 ],
 "metadata": {
  "kernelspec": {
   "display_name": "Python 3",
   "language": "python",
   "name": "python3"
  },
  "language_info": {
   "codemirror_mode": {
    "name": "ipython",
    "version": 3
   },
   "file_extension": ".py",
   "mimetype": "text/x-python",
   "name": "python",
   "nbconvert_exporter": "python",
   "pygments_lexer": "ipython3",
   "version": "3.8.6"
  }
 },
 "nbformat": 4,
 "nbformat_minor": 2
}

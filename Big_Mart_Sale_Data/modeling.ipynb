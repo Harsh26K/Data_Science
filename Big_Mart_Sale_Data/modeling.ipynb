{
 "cells": [
  {
   "cell_type": "code",
   "execution_count": 1,
   "metadata": {},
   "outputs": [],
   "source": [
    "import numpy as np\n",
    "import pandas as pd\n",
    "\n",
    "\n",
    "from sklearn.preprocessing import LabelEncoder, OneHotEncoder\n",
    "from sklearn.preprocessing import StandardScaler\n",
    "from sklearn.model_selection import train_test_split\n",
    "\n",
    "from sklearn.linear_model import Ridge\n",
    "from sklearn.svm import SVR\n",
    "from sklearn.ensemble import RandomForestRegressor\n",
    "from xgboost import XGBRegressor\n",
    "\n",
    "from sklearn.metrics import r2_score,mean_squared_error"
   ]
  },
  {
   "cell_type": "code",
   "execution_count": 2,
   "metadata": {},
   "outputs": [],
   "source": [
    "def drop_cols(df,cols_list):\n",
    "    df = df.drop(columns=cols_list)\n",
    "    return df"
   ]
  },
  {
   "cell_type": "code",
   "execution_count": 23,
   "metadata": {},
   "outputs": [],
   "source": [
    "def oh_transform(df, cols_to_oh):\n",
    "    df_new = pd.get_dummies(df[cols_to_oh],sparse=False,drop_first=True)\n",
    "    df = pd.concat([df,df_new],axis=1)\n",
    "    df = drop_cols(df,cols_to_oh)\n",
    "    return df"
   ]
  },
  {
   "cell_type": "code",
   "execution_count": 20,
   "metadata": {},
   "outputs": [],
   "source": [
    "def label_transform(df,cols_to_le):\n",
    "    le_transform = LabelEncoder()\n",
    "    for col in cols_to_le:\n",
    "        df[col] = le_transform.fit_transform(df[col])\n",
    "    return df"
   ]
  },
  {
   "cell_type": "code",
   "execution_count": 5,
   "metadata": {},
   "outputs": [],
   "source": [
    "def scale_data(df):\n",
    "    sc_transform = StandardScaler()\n",
    "    df_scaled = sc_transform.fit_transform(df)\n",
    "    return df_scaled"
   ]
  },
  {
   "cell_type": "code",
   "execution_count": 6,
   "metadata": {},
   "outputs": [],
   "source": [
    "def split_data(features,target):\n",
    "    X_train,X_test,y_train,y_test = train_test_split(features,target,test_size=0.3,random_state=32)\n",
    "    return X_train,X_test,y_train,y_test"
   ]
  },
  {
   "cell_type": "code",
   "execution_count": 30,
   "metadata": {},
   "outputs": [],
   "source": [
    "def model_train(model,X_train,y_train):\n",
    "    model = model.fit(X_train,y_train)\n",
    "    return model\n",
    "\n",
    "def model_predict(model,X_test):\n",
    "    y_pred = model.predict(X_test)\n",
    "    return y_pred\n",
    "\n",
    "def model_performance(y_pred,y_test):\n",
    "    r2_sc = r2_score(y_test,y_pred)\n",
    "    rmse = round(np.sqrt(mean_squared_error(y_test,y_pred)),4)\n",
    "    return r2_sc,rmse"
   ]
  },
  {
   "cell_type": "code",
   "execution_count": 34,
   "metadata": {},
   "outputs": [],
   "source": [
    "df = pd.read_csv('./cleaned_data.csv')\n",
    "\n",
    "\n",
    "cols_to_drop = ['Unnamed: 0', 'Item_Identifier','Outlet_Identifier']\n",
    "df = drop_cols(df,cols_to_drop)\n",
    "\n",
    "cols = list(df.columns)\n",
    "cat_cols = [col for col in df.select_dtypes('object')]\n",
    "num_cols = list(set(cols) - set(cat_cols))\n",
    "\n",
    "cols_to_oh = [col for col in cat_cols if df[col].nunique()<10]\n",
    "cols_to_le = list(set(cat_cols) - set(cols_to_oh))\n",
    "\n",
    "df = oh_transform(df,cols_to_oh)\n",
    "\n",
    "df = label_transform(df,cols_to_le)\n",
    "\n",
    "df_X = df.drop(columns=['Item_Outlet_Sales'])\n",
    "df_y = df['Item_Outlet_Sales'].ravel()\n",
    "\n",
    "df_X_scaled = scale_data(df_X)\n",
    "\n",
    "X_train,X_test,y_train,y_test = split_data(df_X_scaled,df_y)\n",
    "\n",
    "ri = Ridge(alpha=0.9)\n",
    "rf = RandomForestRegressor(n_estimators=1000)\n",
    "svr = SVR(C=0.9)\n",
    "xgb = XGBRegressor(n_estimators=100,max_depth=5,eta=0.1)\n",
    "\n",
    "model_name = ['Ridge','Random Forest', 'SVM', 'XGboost']\n",
    "models = [ri,rf,svr,xgb]\n",
    "\n",
    "r2_scores = []\n",
    "rmses = []\n",
    "\n",
    "for m in models:\n",
    "    model = model_train(m,X_train,y_train)\n",
    "    y_pred = model_predict(model,X_test)\n",
    "    r2_sc,rmse= model_performance(y_pred,y_test)\n",
    "    r2_scores.append(r2_sc)\n",
    "    rmses.append(rmse)"
   ]
  },
  {
   "cell_type": "code",
   "execution_count": 35,
   "metadata": {},
   "outputs": [
    {
     "data": {
      "text/html": [
       "<div>\n",
       "<style scoped>\n",
       "    .dataframe tbody tr th:only-of-type {\n",
       "        vertical-align: middle;\n",
       "    }\n",
       "\n",
       "    .dataframe tbody tr th {\n",
       "        vertical-align: top;\n",
       "    }\n",
       "\n",
       "    .dataframe thead th {\n",
       "        text-align: right;\n",
       "    }\n",
       "</style>\n",
       "<table border=\"1\" class=\"dataframe\">\n",
       "  <thead>\n",
       "    <tr style=\"text-align: right;\">\n",
       "      <th></th>\n",
       "      <th>model</th>\n",
       "      <th>r2_score</th>\n",
       "      <th>RMSE</th>\n",
       "    </tr>\n",
       "  </thead>\n",
       "  <tbody>\n",
       "    <tr>\n",
       "      <th>0</th>\n",
       "      <td>Ridge</td>\n",
       "      <td>0.674575</td>\n",
       "      <td>2.0395</td>\n",
       "    </tr>\n",
       "    <tr>\n",
       "      <th>1</th>\n",
       "      <td>Random Forest</td>\n",
       "      <td>0.653026</td>\n",
       "      <td>2.1059</td>\n",
       "    </tr>\n",
       "    <tr>\n",
       "      <th>2</th>\n",
       "      <td>SVM</td>\n",
       "      <td>0.684511</td>\n",
       "      <td>2.0081</td>\n",
       "    </tr>\n",
       "    <tr>\n",
       "      <th>3</th>\n",
       "      <td>XGboost</td>\n",
       "      <td>0.681860</td>\n",
       "      <td>2.0165</td>\n",
       "    </tr>\n",
       "  </tbody>\n",
       "</table>\n",
       "</div>"
      ],
      "text/plain": [
       "           model  r2_score    RMSE\n",
       "0          Ridge  0.674575  2.0395\n",
       "1  Random Forest  0.653026  2.1059\n",
       "2            SVM  0.684511  2.0081\n",
       "3        XGboost  0.681860  2.0165"
      ]
     },
     "execution_count": 35,
     "metadata": {},
     "output_type": "execute_result"
    }
   ],
   "source": [
    "d = {'model':model_name,'r2_score':r2_scores,'RMSE':rmses}\n",
    "Evaluation = pd.DataFrame(data=d)\n",
    "\n",
    "Evaluation"
   ]
  }
 ],
 "metadata": {
  "kernelspec": {
   "display_name": "Python 3",
   "language": "python",
   "name": "python3"
  },
  "language_info": {
   "codemirror_mode": {
    "name": "ipython",
    "version": 3
   },
   "file_extension": ".py",
   "mimetype": "text/x-python",
   "name": "python",
   "nbconvert_exporter": "python",
   "pygments_lexer": "ipython3",
   "version": "3.8.6"
  }
 },
 "nbformat": 4,
 "nbformat_minor": 2
}

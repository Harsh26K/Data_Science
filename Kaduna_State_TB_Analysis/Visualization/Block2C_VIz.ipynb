{
 "cells": [
  {
   "cell_type": "code",
   "execution_count": null,
   "metadata": {},
   "outputs": [],
   "source": [
    "import pandas as pd\n",
    "import plotly.express as px\n",
    "import plotly.graph_objects as go\n",
    "import geopandas as gpd"
   ]
  },
  {
   "cell_type": "code",
   "execution_count": null,
   "metadata": {},
   "outputs": [],
   "source": [
    "df = pd.read_csv('./Block2C_df.csv')\n",
    "# df.head()"
   ]
  },
  {
   "cell_type": "code",
   "execution_count": null,
   "metadata": {},
   "outputs": [],
   "source": [
    "# dropped unnecessary columns\n",
    "df.drop(columns=['Unnamed: 0'],inplace=True)"
   ]
  },
  {
   "cell_type": "code",
   "execution_count": null,
   "metadata": {},
   "outputs": [],
   "source": [
    "def plot_TB_cases_by_sex():\n",
    "    '''\n",
    "        donut chart for showing Total TB cases for Male and Female population\n",
    "\n",
    "        Args: None\n",
    "        Returns:\n",
    "            plotly express figure of donut chart\n",
    "    '''\n",
    "    fig = px.pie(\n",
    "        data_frame=df.groupby(['Sex'])['TB_Cases'].sum().reset_index(),\n",
    "        names = 'Sex',\n",
    "        values = 'TB_Cases',\n",
    "        hole = 0.5,\n",
    "        color_discrete_sequence  = [\"blue\",\"skyblue\"],\n",
    "        title = 'Total TB Cases By Gender')\n",
    "    fig.update_layout(template='plotly_white')\n",
    "    return fig"
   ]
  },
  {
   "cell_type": "code",
   "execution_count": null,
   "metadata": {},
   "outputs": [],
   "source": [
    "fig = plot_TB_cases_by_sex()\n",
    "fig.show()"
   ]
  },
  {
   "cell_type": "code",
   "execution_count": null,
   "metadata": {},
   "outputs": [],
   "source": [
    "def plot_TB_cases_by_year():\n",
    "    '''\n",
    "        plot for showing overall yearwise trend of TB cases\n",
    "\n",
    "        Args:None\n",
    "        Returns:\n",
    "            plotly express figure of line chart\n",
    "    '''\n",
    "    fig = px.line(\n",
    "        data_frame = df.groupby(['Year'])['TB_Cases'].sum().reset_index(),\n",
    "        x = 'Year',\n",
    "        y = 'TB_Cases',\n",
    "        markers =True,\n",
    "        line_shape='linear',\n",
    "        title = 'TB Cases trend by Year'\n",
    "        )\n",
    "    fig.update_layout(\n",
    "        xaxis = dict(\n",
    "            tickmode = 'linear',\n",
    "            tick0 = 2021,\n",
    "            dtick = 1\n",
    "        ),\n",
    "        template = 'plotly_white'\n",
    "    )\n",
    "    return fig"
   ]
  },
  {
   "cell_type": "code",
   "execution_count": null,
   "metadata": {},
   "outputs": [],
   "source": [
    "fig = plot_TB_cases_by_year()\n",
    "fig.show()"
   ]
  },
  {
   "cell_type": "code",
   "execution_count": null,
   "metadata": {},
   "outputs": [],
   "source": [
    "def plot_genderwise_TB_cases_by_age_gr(year_quarter):\n",
    "    '''\n",
    "        creates a grouped bar chart showing genderwise tb_cases for each age_gr\n",
    "        in a quarter.\n",
    "\n",
    "        Args: year_quarter ==> str\n",
    "            quarter of a year to analyse in the form of 2021Q1\n",
    "        \n",
    "        Returns:\n",
    "            plotly express figure of grouped bar chart\n",
    "    '''\n",
    "\n",
    "    data = df.groupby(['Year_Quarter','Age_Gr','Sex'])['TB_Cases'].sum().reset_index()\n",
    "\n",
    "    data = data[data['Year_Quarter']==year_quarter]\n",
    "    fig = px.bar(\n",
    "            data_frame = data,\n",
    "            x = 'Age_Gr',\n",
    "            y = 'TB_Cases',\n",
    "            category_orders ={'Age_Gr': ['0 to 4','5 to 14','15 to 24','25 to 34','35 to 44','45 to 54','55 to 64','> 65']},\n",
    "            color = 'Sex',\n",
    "            barmode = 'group',\n",
    "            title = f'Genderwise TB Cases By Age_Gr for quarter {year_quarter}'\n",
    "        )\n",
    "    fig.update_layout(template='plotly_white')\n",
    "    return fig"
   ]
  },
  {
   "cell_type": "code",
   "execution_count": null,
   "metadata": {},
   "outputs": [],
   "source": [
    "fig = plot_genderwise_TB_cases_by_age_gr('2022 Q2')\n",
    "fig.show()"
   ]
  },
  {
   "cell_type": "code",
   "execution_count": null,
   "metadata": {},
   "outputs": [],
   "source": [
    "def plot_TB_cases_trend_by_quarter_for_lga(lga):\n",
    "    ''' \n",
    "    Generates a line graph showing trend of total TB Cases for a lga over \n",
    "    period of 2021-2023.\n",
    "\n",
    "    Args: lga_name ==> str\n",
    "            name of LGA for analysis\n",
    "    \n",
    "    Returns:\n",
    "        plotly express figure object with a line chart\n",
    "        \n",
    "    '''\n",
    "\n",
    "    data = df[df['LGA']==lga].groupby('Year_Quarter')['TB_Cases'].sum().reset_index()\n",
    "    fig = px.line(\n",
    "            data_frame = data,\n",
    "            x = 'Year_Quarter',\n",
    "            y = 'TB_Cases',\n",
    "            title = f'TB Cases trend in {lga} \\\n",
    "                    <br><sup>between 2021-2023</sup>',\n",
    "            markers = True,\n",
    "            line_shape = \"linear\"\n",
    "        )\n",
    "    \n",
    "    fig.update_layout(\n",
    "        xaxis = dict( title = 'time period'),\n",
    "        yaxis = dict( title = 'TB Cases'),\n",
    "        template = 'plotly_white'\n",
    "    )\n",
    "\n",
    "    return fig"
   ]
  },
  {
   "cell_type": "code",
   "execution_count": null,
   "metadata": {},
   "outputs": [],
   "source": [
    "fig = plot_TB_cases_trend_by_quarter_for_lga('Zaria')\n",
    "fig.show()"
   ]
  },
  {
   "cell_type": "code",
   "execution_count": null,
   "metadata": {},
   "outputs": [],
   "source": [
    "f = r'nga_adm_osgof_20190417\\nga_admbnda_adm2_osgof_20190417.shp'\n",
    "shapes = gpd.read_file(f)\n",
    "kaduna_geo =  shapes[shapes['ADM1_EN'] == 'Kaduna']\n",
    "# kaduna_geo.head()\n",
    "quarterly_data =  df.groupby(['Year_Quarter','LGA'])['TB_Cases'].sum().reset_index()\n",
    "quarterly_geo_data = quarterly_data.merge(kaduna_geo,left_on='LGA',right_on='ADM2_EN',how='inner')\n",
    "# quarterly_geo_data.head()\n",
    "quarterly_geo_data = gpd.GeoDataFrame(quarterly_geo_data)\n",
    "# quarterly_geo_data.head()"
   ]
  },
  {
   "cell_type": "code",
   "execution_count": null,
   "metadata": {},
   "outputs": [],
   "source": [
    "def plot_choropleth():\n",
    "    '''\n",
    "        creates choropleth map showing color range of TB cases in different LGAs\n",
    "        with Year_quarter slider.\n",
    "\n",
    "        Args: None\n",
    "        Returns:\n",
    "                plotly express figure of choropleth map.\n",
    "    '''\n",
    "    fig = px.choropleth(\n",
    "                quarterly_geo_data,\n",
    "                geojson=quarterly_geo_data.geometry,\n",
    "                locations=quarterly_geo_data.index,\n",
    "                color='TB_Cases',\n",
    "                hover_name = 'ADM2_EN',\n",
    "                # hover_data = 'TB_Cases',\n",
    "                color_continuous_scale = 'plasma',\n",
    "                projection=\"mercator\",\n",
    "                labels='Total TB Cases',\n",
    "                animation_frame='Year_Quarter',\n",
    "                custom_data = ['ADM2_EN','TB_Cases'],\n",
    "                range_color=[0,1000])\n",
    "\n",
    "    fig.update_layout(autosize=False,width=800,height=600)\n",
    "    fig.update_geos(fitbounds=\"locations\", visible=False)\n",
    "    fig.update_layout(\n",
    "        title=dict(text=\"Total TB Cases Over Time\")\n",
    "    )\n",
    "    fig[\"layout\"].pop(\"updatemenus\")\n",
    "\n",
    "    return fig\n",
    "\n",
    "fig = plot_choropleth()\n",
    "fig.show()"
   ]
  }
 ],
 "metadata": {
  "kernelspec": {
   "display_name": "Python 3",
   "language": "python",
   "name": "python3"
  },
  "language_info": {
   "codemirror_mode": {
    "name": "ipython",
    "version": 3
   },
   "file_extension": ".py",
   "mimetype": "text/x-python",
   "name": "python",
   "nbconvert_exporter": "python",
   "pygments_lexer": "ipython3",
   "version": "3.8.6"
  }
 },
 "nbformat": 4,
 "nbformat_minor": 2
}

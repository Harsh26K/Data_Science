{
  "cells": [
    {
      "cell_type": "markdown",
      "metadata": {
        "id": "gne2DImZCUwt"
      },
      "source": [
        "[refer1](https://enjoymachinelearning.com/blog/k-means-accuracy-python-silhouette/?expand_article=1)\n",
        "[refer2](https://www.askpython.com/python/examples/plot-k-means-clusters-python)"
      ]
    },
    {
      "cell_type": "code",
      "execution_count": 1,
      "metadata": {
        "id": "2n8HSZv2SROl"
      },
      "outputs": [
        {
          "name": "stdout",
          "output_type": "stream",
          "text": [
            "Note: you may need to restart the kernel to use updated packages.\n"
          ]
        }
      ],
      "source": [
        "# !pip install -q umap        #-- for google colab\n",
        "%pip install -q umap          #-- for vscode"
      ]
    },
    {
      "cell_type": "code",
      "execution_count": 2,
      "metadata": {
        "id": "NmePkMW-SmfY"
      },
      "outputs": [
        {
          "name": "stdout",
          "output_type": "stream",
          "text": [
            "Note: you may need to restart the kernel to use updated packages.\n"
          ]
        }
      ],
      "source": [
        "# !pip install -q yellowbrick    #-- for google colab\n",
        "%pip install -q yellowbrick      #-- for vscode"
      ]
    },
    {
      "cell_type": "code",
      "execution_count": 3,
      "metadata": {
        "id": "M0MZPjR9dK8C"
      },
      "outputs": [],
      "source": [
        "# import required libraries\n",
        "import numpy as np\n",
        "import pandas as pd\n",
        "import matplotlib.pyplot as plt\n",
        "import seaborn as sns\n",
        "import plotly.express as px\n",
        "\n",
        "from sklearn.preprocessing import LabelEncoder,StandardScaler,MinMaxScaler\n",
        "from yellowbrick.cluster import KElbowVisualizer\n",
        "from yellowbrick.cluster import SilhouetteVisualizer\n",
        "import umap\n",
        "\n",
        "from sklearn.cluster import KMeans\n",
        "from sklearn.cluster import DBSCAN\n",
        "from sklearn.mixture import GaussianMixture\n",
        "\n",
        "from sklearn.metrics import silhouette_samples,silhouette_score\n",
        "\n",
        "import warnings\n",
        "warnings.filterwarnings('ignore')"
      ]
    },
    {
      "cell_type": "code",
      "execution_count": 5,
      "metadata": {
        "colab": {
          "base_uri": "https://localhost:8080/",
          "height": 424
        },
        "id": "IAqTX0lGfMOu",
        "outputId": "67610a38-993d-4ba4-bd19-2fd1f82bf7fa"
      },
      "outputs": [
        {
          "data": {
            "text/html": [
              "<div>\n",
              "<style scoped>\n",
              "    .dataframe tbody tr th:only-of-type {\n",
              "        vertical-align: middle;\n",
              "    }\n",
              "\n",
              "    .dataframe tbody tr th {\n",
              "        vertical-align: top;\n",
              "    }\n",
              "\n",
              "    .dataframe thead th {\n",
              "        text-align: right;\n",
              "    }\n",
              "</style>\n",
              "<table border=\"1\" class=\"dataframe\">\n",
              "  <thead>\n",
              "    <tr style=\"text-align: right;\">\n",
              "      <th></th>\n",
              "      <th>Unnamed: 0</th>\n",
              "      <th>Year</th>\n",
              "      <th>Quarter</th>\n",
              "      <th>Year_Quarter</th>\n",
              "      <th>LGA</th>\n",
              "      <th>Sex</th>\n",
              "      <th>Age_Gr</th>\n",
              "      <th>TB_Cases</th>\n",
              "    </tr>\n",
              "  </thead>\n",
              "  <tbody>\n",
              "    <tr>\n",
              "      <th>0</th>\n",
              "      <td>0</td>\n",
              "      <td>2019</td>\n",
              "      <td>1</td>\n",
              "      <td>2019 Q1</td>\n",
              "      <td>Birnin-Gwari</td>\n",
              "      <td>Male</td>\n",
              "      <td>0 to 4</td>\n",
              "      <td>0</td>\n",
              "    </tr>\n",
              "    <tr>\n",
              "      <th>1</th>\n",
              "      <td>1</td>\n",
              "      <td>2019</td>\n",
              "      <td>1</td>\n",
              "      <td>2019 Q1</td>\n",
              "      <td>Birnin-Gwari</td>\n",
              "      <td>Female</td>\n",
              "      <td>0 to 4</td>\n",
              "      <td>0</td>\n",
              "    </tr>\n",
              "    <tr>\n",
              "      <th>2</th>\n",
              "      <td>2</td>\n",
              "      <td>2019</td>\n",
              "      <td>2</td>\n",
              "      <td>2019 Q2</td>\n",
              "      <td>Birnin-Gwari</td>\n",
              "      <td>Male</td>\n",
              "      <td>0 to 4</td>\n",
              "      <td>0</td>\n",
              "    </tr>\n",
              "    <tr>\n",
              "      <th>3</th>\n",
              "      <td>3</td>\n",
              "      <td>2019</td>\n",
              "      <td>2</td>\n",
              "      <td>2019 Q2</td>\n",
              "      <td>Birnin-Gwari</td>\n",
              "      <td>Female</td>\n",
              "      <td>0 to 4</td>\n",
              "      <td>0</td>\n",
              "    </tr>\n",
              "    <tr>\n",
              "      <th>4</th>\n",
              "      <td>4</td>\n",
              "      <td>2019</td>\n",
              "      <td>3</td>\n",
              "      <td>2019 Q3</td>\n",
              "      <td>Birnin-Gwari</td>\n",
              "      <td>Male</td>\n",
              "      <td>0 to 4</td>\n",
              "      <td>0</td>\n",
              "    </tr>\n",
              "    <tr>\n",
              "      <th>...</th>\n",
              "      <td>...</td>\n",
              "      <td>...</td>\n",
              "      <td>...</td>\n",
              "      <td>...</td>\n",
              "      <td>...</td>\n",
              "      <td>...</td>\n",
              "      <td>...</td>\n",
              "      <td>...</td>\n",
              "    </tr>\n",
              "    <tr>\n",
              "      <th>7355</th>\n",
              "      <td>7355</td>\n",
              "      <td>2023</td>\n",
              "      <td>2</td>\n",
              "      <td>2023 Q2</td>\n",
              "      <td>Zaria</td>\n",
              "      <td>Female</td>\n",
              "      <td>&gt; 65</td>\n",
              "      <td>20</td>\n",
              "    </tr>\n",
              "    <tr>\n",
              "      <th>7356</th>\n",
              "      <td>7356</td>\n",
              "      <td>2023</td>\n",
              "      <td>3</td>\n",
              "      <td>2023 Q3</td>\n",
              "      <td>Zaria</td>\n",
              "      <td>Male</td>\n",
              "      <td>&gt; 65</td>\n",
              "      <td>18</td>\n",
              "    </tr>\n",
              "    <tr>\n",
              "      <th>7357</th>\n",
              "      <td>7357</td>\n",
              "      <td>2023</td>\n",
              "      <td>3</td>\n",
              "      <td>2023 Q3</td>\n",
              "      <td>Zaria</td>\n",
              "      <td>Female</td>\n",
              "      <td>&gt; 65</td>\n",
              "      <td>49</td>\n",
              "    </tr>\n",
              "    <tr>\n",
              "      <th>7358</th>\n",
              "      <td>7358</td>\n",
              "      <td>2023</td>\n",
              "      <td>4</td>\n",
              "      <td>2023 Q4</td>\n",
              "      <td>Zaria</td>\n",
              "      <td>Male</td>\n",
              "      <td>&gt; 65</td>\n",
              "      <td>34</td>\n",
              "    </tr>\n",
              "    <tr>\n",
              "      <th>7359</th>\n",
              "      <td>7359</td>\n",
              "      <td>2023</td>\n",
              "      <td>4</td>\n",
              "      <td>2023 Q4</td>\n",
              "      <td>Zaria</td>\n",
              "      <td>Female</td>\n",
              "      <td>&gt; 65</td>\n",
              "      <td>19</td>\n",
              "    </tr>\n",
              "  </tbody>\n",
              "</table>\n",
              "<p>7360 rows × 8 columns</p>\n",
              "</div>"
            ],
            "text/plain": [
              "      Unnamed: 0  Year  Quarter Year_Quarter           LGA     Sex  Age_Gr  \\\n",
              "0              0  2019        1      2019 Q1  Birnin-Gwari    Male  0 to 4   \n",
              "1              1  2019        1      2019 Q1  Birnin-Gwari  Female  0 to 4   \n",
              "2              2  2019        2      2019 Q2  Birnin-Gwari    Male  0 to 4   \n",
              "3              3  2019        2      2019 Q2  Birnin-Gwari  Female  0 to 4   \n",
              "4              4  2019        3      2019 Q3  Birnin-Gwari    Male  0 to 4   \n",
              "...          ...   ...      ...          ...           ...     ...     ...   \n",
              "7355        7355  2023        2      2023 Q2         Zaria  Female    > 65   \n",
              "7356        7356  2023        3      2023 Q3         Zaria    Male    > 65   \n",
              "7357        7357  2023        3      2023 Q3         Zaria  Female    > 65   \n",
              "7358        7358  2023        4      2023 Q4         Zaria    Male    > 65   \n",
              "7359        7359  2023        4      2023 Q4         Zaria  Female    > 65   \n",
              "\n",
              "      TB_Cases  \n",
              "0            0  \n",
              "1            0  \n",
              "2            0  \n",
              "3            0  \n",
              "4            0  \n",
              "...        ...  \n",
              "7355        20  \n",
              "7356        18  \n",
              "7357        49  \n",
              "7358        34  \n",
              "7359        19  \n",
              "\n",
              "[7360 rows x 8 columns]"
            ]
          },
          "execution_count": 5,
          "metadata": {},
          "output_type": "execute_result"
        }
      ],
      "source": [
        "# import data\n",
        "# df = pd.read_csv('/content/Block2C_df.csv')\n",
        "df= pd.read_csv('./Block2C_df.csv')\n",
        "df"
      ]
    },
    {
      "cell_type": "code",
      "execution_count": 6,
      "metadata": {
        "id": "KCcQr_ecgEbb"
      },
      "outputs": [],
      "source": [
        "# drop index column created by pandas\n",
        "df.drop(columns=['Unnamed: 0','Year_Quarter'],inplace=True)"
      ]
    },
    {
      "cell_type": "markdown",
      "metadata": {
        "id": "hg2VxnvmqT-C"
      },
      "source": [
        "performed basic EDA to verify if data is same as the result of EDA stage or not"
      ]
    },
    {
      "cell_type": "markdown",
      "metadata": {
        "id": "1sf3tkAjqQQP"
      },
      "source": [
        "## Basic EDA"
      ]
    },
    {
      "cell_type": "code",
      "execution_count": 7,
      "metadata": {
        "id": "_lbRsLpNYEUP"
      },
      "outputs": [],
      "source": [
        "df2 = df.copy()"
      ]
    },
    {
      "cell_type": "code",
      "execution_count": 8,
      "metadata": {
        "colab": {
          "base_uri": "https://localhost:8080/"
        },
        "id": "tPi7-X36h6_P",
        "outputId": "671fd720-c4a5-44ef-c3f8-8ef3022d40b2"
      },
      "outputs": [
        {
          "data": {
            "text/plain": [
              "Year        0\n",
              "Quarter     0\n",
              "LGA         0\n",
              "Sex         0\n",
              "Age_Gr      0\n",
              "TB_Cases    0\n",
              "dtype: int64"
            ]
          },
          "execution_count": 8,
          "metadata": {},
          "output_type": "execute_result"
        }
      ],
      "source": [
        "#Check for Null values\n",
        "df2.isnull().sum()"
      ]
    },
    {
      "cell_type": "markdown",
      "metadata": {
        "id": "vtuTcmhApUFC"
      },
      "source": [
        "there are no null values as they are been handled during EDA stage."
      ]
    },
    {
      "cell_type": "code",
      "execution_count": 9,
      "metadata": {
        "colab": {
          "base_uri": "https://localhost:8080/",
          "height": 300
        },
        "id": "xOVF1CPDiZLU",
        "outputId": "0aaf7375-e13f-4ea8-f349-15bedc12d676"
      },
      "outputs": [
        {
          "data": {
            "text/html": [
              "<div>\n",
              "<style scoped>\n",
              "    .dataframe tbody tr th:only-of-type {\n",
              "        vertical-align: middle;\n",
              "    }\n",
              "\n",
              "    .dataframe tbody tr th {\n",
              "        vertical-align: top;\n",
              "    }\n",
              "\n",
              "    .dataframe thead th {\n",
              "        text-align: right;\n",
              "    }\n",
              "</style>\n",
              "<table border=\"1\" class=\"dataframe\">\n",
              "  <thead>\n",
              "    <tr style=\"text-align: right;\">\n",
              "      <th></th>\n",
              "      <th>Year</th>\n",
              "      <th>Quarter</th>\n",
              "      <th>TB_Cases</th>\n",
              "    </tr>\n",
              "  </thead>\n",
              "  <tbody>\n",
              "    <tr>\n",
              "      <th>count</th>\n",
              "      <td>7360.00000</td>\n",
              "      <td>7360.00000</td>\n",
              "      <td>7360.000000</td>\n",
              "    </tr>\n",
              "    <tr>\n",
              "      <th>mean</th>\n",
              "      <td>2021.00000</td>\n",
              "      <td>2.50000</td>\n",
              "      <td>10.128804</td>\n",
              "    </tr>\n",
              "    <tr>\n",
              "      <th>std</th>\n",
              "      <td>1.41431</td>\n",
              "      <td>1.11811</td>\n",
              "      <td>19.474332</td>\n",
              "    </tr>\n",
              "    <tr>\n",
              "      <th>min</th>\n",
              "      <td>2019.00000</td>\n",
              "      <td>1.00000</td>\n",
              "      <td>0.000000</td>\n",
              "    </tr>\n",
              "    <tr>\n",
              "      <th>25%</th>\n",
              "      <td>2020.00000</td>\n",
              "      <td>1.75000</td>\n",
              "      <td>1.000000</td>\n",
              "    </tr>\n",
              "    <tr>\n",
              "      <th>50%</th>\n",
              "      <td>2021.00000</td>\n",
              "      <td>2.50000</td>\n",
              "      <td>3.000000</td>\n",
              "    </tr>\n",
              "    <tr>\n",
              "      <th>75%</th>\n",
              "      <td>2022.00000</td>\n",
              "      <td>3.25000</td>\n",
              "      <td>10.000000</td>\n",
              "    </tr>\n",
              "    <tr>\n",
              "      <th>max</th>\n",
              "      <td>2023.00000</td>\n",
              "      <td>4.00000</td>\n",
              "      <td>215.000000</td>\n",
              "    </tr>\n",
              "  </tbody>\n",
              "</table>\n",
              "</div>"
            ],
            "text/plain": [
              "             Year     Quarter     TB_Cases\n",
              "count  7360.00000  7360.00000  7360.000000\n",
              "mean   2021.00000     2.50000    10.128804\n",
              "std       1.41431     1.11811    19.474332\n",
              "min    2019.00000     1.00000     0.000000\n",
              "25%    2020.00000     1.75000     1.000000\n",
              "50%    2021.00000     2.50000     3.000000\n",
              "75%    2022.00000     3.25000    10.000000\n",
              "max    2023.00000     4.00000   215.000000"
            ]
          },
          "execution_count": 9,
          "metadata": {},
          "output_type": "execute_result"
        }
      ],
      "source": [
        "# summary statistic for numerical variables\n",
        "df2.describe()"
      ]
    },
    {
      "cell_type": "code",
      "execution_count": 10,
      "metadata": {
        "colab": {
          "base_uri": "https://localhost:8080/"
        },
        "id": "-OaI1oRSnGqK",
        "outputId": "4e6ec3d6-0fb0-4955-ccdb-d4e6d251695d"
      },
      "outputs": [
        {
          "data": {
            "text/plain": [
              "Year          5\n",
              "Quarter       4\n",
              "LGA          23\n",
              "Sex           2\n",
              "Age_Gr        8\n",
              "TB_Cases    142\n",
              "dtype: int64"
            ]
          },
          "execution_count": 10,
          "metadata": {},
          "output_type": "execute_result"
        }
      ],
      "source": [
        "# check unique values present in each column\n",
        "df2.nunique()"
      ]
    },
    {
      "cell_type": "code",
      "execution_count": 11,
      "metadata": {
        "colab": {
          "base_uri": "https://localhost:8080/"
        },
        "id": "pnQLYy2Lig49",
        "outputId": "92deb359-c99c-457f-b3a3-6f87e3ea31d3"
      },
      "outputs": [
        {
          "data": {
            "text/plain": [
              "1760"
            ]
          },
          "execution_count": 11,
          "metadata": {},
          "output_type": "execute_result"
        }
      ],
      "source": [
        "# check for outliers in TB_Cases\n",
        "len(df2[df2['TB_Cases']>10])"
      ]
    },
    {
      "cell_type": "code",
      "execution_count": 12,
      "metadata": {
        "id": "PuOYe4sQlF6A"
      },
      "outputs": [],
      "source": [
        "outliers = df2[df2['TB_Cases']>10]"
      ]
    },
    {
      "cell_type": "code",
      "execution_count": 13,
      "metadata": {
        "colab": {
          "base_uri": "https://localhost:8080/",
          "height": 424
        },
        "id": "mBgj2paDlOxh",
        "outputId": "32c58f81-1517-46f0-d665-67d8548c0ce4"
      },
      "outputs": [
        {
          "data": {
            "text/html": [
              "<div>\n",
              "<style scoped>\n",
              "    .dataframe tbody tr th:only-of-type {\n",
              "        vertical-align: middle;\n",
              "    }\n",
              "\n",
              "    .dataframe tbody tr th {\n",
              "        vertical-align: top;\n",
              "    }\n",
              "\n",
              "    .dataframe thead th {\n",
              "        text-align: right;\n",
              "    }\n",
              "</style>\n",
              "<table border=\"1\" class=\"dataframe\">\n",
              "  <thead>\n",
              "    <tr style=\"text-align: right;\">\n",
              "      <th></th>\n",
              "      <th>Year</th>\n",
              "      <th>Quarter</th>\n",
              "      <th>LGA</th>\n",
              "      <th>Sex</th>\n",
              "      <th>Age_Gr</th>\n",
              "      <th>TB_Cases</th>\n",
              "    </tr>\n",
              "  </thead>\n",
              "  <tbody>\n",
              "    <tr>\n",
              "      <th>200</th>\n",
              "      <td>2020</td>\n",
              "      <td>1</td>\n",
              "      <td>Giwa</td>\n",
              "      <td>Male</td>\n",
              "      <td>0 to 4</td>\n",
              "      <td>14</td>\n",
              "    </tr>\n",
              "    <tr>\n",
              "      <th>206</th>\n",
              "      <td>2020</td>\n",
              "      <td>4</td>\n",
              "      <td>Giwa</td>\n",
              "      <td>Male</td>\n",
              "      <td>0 to 4</td>\n",
              "      <td>14</td>\n",
              "    </tr>\n",
              "    <tr>\n",
              "      <th>386</th>\n",
              "      <td>2021</td>\n",
              "      <td>2</td>\n",
              "      <td>Giwa</td>\n",
              "      <td>Male</td>\n",
              "      <td>0 to 4</td>\n",
              "      <td>11</td>\n",
              "    </tr>\n",
              "    <tr>\n",
              "      <th>570</th>\n",
              "      <td>2022</td>\n",
              "      <td>2</td>\n",
              "      <td>Giwa</td>\n",
              "      <td>Male</td>\n",
              "      <td>0 to 4</td>\n",
              "      <td>15</td>\n",
              "    </tr>\n",
              "    <tr>\n",
              "      <th>572</th>\n",
              "      <td>2022</td>\n",
              "      <td>3</td>\n",
              "      <td>Giwa</td>\n",
              "      <td>Male</td>\n",
              "      <td>0 to 4</td>\n",
              "      <td>28</td>\n",
              "    </tr>\n",
              "    <tr>\n",
              "      <th>...</th>\n",
              "      <td>...</td>\n",
              "      <td>...</td>\n",
              "      <td>...</td>\n",
              "      <td>...</td>\n",
              "      <td>...</td>\n",
              "      <td>...</td>\n",
              "    </tr>\n",
              "    <tr>\n",
              "      <th>7355</th>\n",
              "      <td>2023</td>\n",
              "      <td>2</td>\n",
              "      <td>Zaria</td>\n",
              "      <td>Female</td>\n",
              "      <td>&gt; 65</td>\n",
              "      <td>20</td>\n",
              "    </tr>\n",
              "    <tr>\n",
              "      <th>7356</th>\n",
              "      <td>2023</td>\n",
              "      <td>3</td>\n",
              "      <td>Zaria</td>\n",
              "      <td>Male</td>\n",
              "      <td>&gt; 65</td>\n",
              "      <td>18</td>\n",
              "    </tr>\n",
              "    <tr>\n",
              "      <th>7357</th>\n",
              "      <td>2023</td>\n",
              "      <td>3</td>\n",
              "      <td>Zaria</td>\n",
              "      <td>Female</td>\n",
              "      <td>&gt; 65</td>\n",
              "      <td>49</td>\n",
              "    </tr>\n",
              "    <tr>\n",
              "      <th>7358</th>\n",
              "      <td>2023</td>\n",
              "      <td>4</td>\n",
              "      <td>Zaria</td>\n",
              "      <td>Male</td>\n",
              "      <td>&gt; 65</td>\n",
              "      <td>34</td>\n",
              "    </tr>\n",
              "    <tr>\n",
              "      <th>7359</th>\n",
              "      <td>2023</td>\n",
              "      <td>4</td>\n",
              "      <td>Zaria</td>\n",
              "      <td>Female</td>\n",
              "      <td>&gt; 65</td>\n",
              "      <td>19</td>\n",
              "    </tr>\n",
              "  </tbody>\n",
              "</table>\n",
              "<p>1760 rows × 6 columns</p>\n",
              "</div>"
            ],
            "text/plain": [
              "      Year  Quarter    LGA     Sex  Age_Gr  TB_Cases\n",
              "200   2020        1   Giwa    Male  0 to 4        14\n",
              "206   2020        4   Giwa    Male  0 to 4        14\n",
              "386   2021        2   Giwa    Male  0 to 4        11\n",
              "570   2022        2   Giwa    Male  0 to 4        15\n",
              "572   2022        3   Giwa    Male  0 to 4        28\n",
              "...    ...      ...    ...     ...     ...       ...\n",
              "7355  2023        2  Zaria  Female    > 65        20\n",
              "7356  2023        3  Zaria    Male    > 65        18\n",
              "7357  2023        3  Zaria  Female    > 65        49\n",
              "7358  2023        4  Zaria    Male    > 65        34\n",
              "7359  2023        4  Zaria  Female    > 65        19\n",
              "\n",
              "[1760 rows x 6 columns]"
            ]
          },
          "execution_count": 13,
          "metadata": {},
          "output_type": "execute_result"
        }
      ],
      "source": [
        "outliers"
      ]
    },
    {
      "cell_type": "code",
      "execution_count": 14,
      "metadata": {
        "colab": {
          "base_uri": "https://localhost:8080/",
          "height": 477
        },
        "id": "WDVNVqqviEDg",
        "outputId": "c6df762c-9255-456f-8787-b24aa22eaeff"
      },
      "outputs": [
        {
          "data": {
            "text/plain": [
              "<AxesSubplot:xlabel='TB_Cases'>"
            ]
          },
          "execution_count": 14,
          "metadata": {},
          "output_type": "execute_result"
        },
        {
          "data": {
            "image/png": "[encoded data removed]",
            "text/plain": [
              "<Figure size 576x396 with 1 Axes>"
            ]
          },
          "metadata": {},
          "output_type": "display_data"
        }
      ],
      "source": [
        "sns.boxplot(df2.TB_Cases)"
      ]
    },
    {
      "cell_type": "code",
      "execution_count": 15,
      "metadata": {
        "colab": {
          "base_uri": "https://localhost:8080/",
          "height": 506
        },
        "id": "P28NaJr3kMIf",
        "outputId": "632dbdb5-71be-480a-e145-cfb712aa8bb1"
      },
      "outputs": [
        {
          "data": {
            "text/plain": [
              "<AxesSubplot:>"
            ]
          },
          "execution_count": 15,
          "metadata": {},
          "output_type": "execute_result"
        },
        {
          "data": {
            "image/png": "[encoded data removed]",
            "text/plain": [
              "<Figure size 576x396 with 2 Axes>"
            ]
          },
          "metadata": {},
          "output_type": "display_data"
        }
      ],
      "source": [
        "# checking if any features are correlated with each other\n",
        "corr = df2.corr()\n",
        "sns.heatmap(corr,annot=True)"
      ]
    },
    {
      "cell_type": "markdown",
      "metadata": {
        "id": "w9T3WOuvqnkk"
      },
      "source": [
        "## Preprocessing"
      ]
    },
    {
      "cell_type": "code",
      "execution_count": 16,
      "metadata": {
        "id": "cxlV44snk3YL"
      },
      "outputs": [],
      "source": [
        "df2_le = df2.copy()"
      ]
    },
    {
      "cell_type": "markdown",
      "metadata": {
        "id": "Ymn2Mwh6qtew"
      },
      "source": [
        "changed categorical columns i.e. LGA, Sex and Age_Gr into numerical type using appropriate methods"
      ]
    },
    {
      "cell_type": "code",
      "execution_count": 17,
      "metadata": {
        "colab": {
          "base_uri": "https://localhost:8080/"
        },
        "id": "n5r4Zi--k3R8",
        "outputId": "b0e68ab4-bdf2-4808-cd0a-3f0061613b7a"
      },
      "outputs": [
        {
          "name": "stdout",
          "output_type": "stream",
          "text": [
            "[ 0  1  2  3  4  5  6  7  8  9 10 11 12 13 14 15 16 17 18 19 20 21 22]\n",
            "      0 to 4  15 to 24  25 to 34  35 to 44  45 to 54  5 to 14  55 to 64  > 65\n",
            "0          1         0         0         0         0        0         0     0\n",
            "1          1         0         0         0         0        0         0     0\n",
            "2          1         0         0         0         0        0         0     0\n",
            "3          1         0         0         0         0        0         0     0\n",
            "4          1         0         0         0         0        0         0     0\n",
            "...      ...       ...       ...       ...       ...      ...       ...   ...\n",
            "7355       0         0         0         0         0        0         0     1\n",
            "7356       0         0         0         0         0        0         0     1\n",
            "7357       0         0         0         0         0        0         0     1\n",
            "7358       0         0         0         0         0        0         0     1\n",
            "7359       0         0         0         0         0        0         0     1\n",
            "\n",
            "[7360 rows x 8 columns]\n"
          ]
        }
      ],
      "source": [
        "# LabelEncoder is used for LGA as column contains more than 10 unique variables.\n",
        "le = LabelEncoder()\n",
        "df2_le['LGA'] = le.fit_transform(df2_le['LGA'])\n",
        "print(df2_le['LGA'].unique())\n",
        "\n",
        "# Simple replace method for Sex as column contains only two unique variables\n",
        "df2_le['Sex'] = df2_le['Sex'].replace(['Male','Female'],[1,0])\n",
        "\n",
        "# OneHotEncoder(pandas) is used for Age_Gr as column contains less than 10 unique variables\n",
        "df2_age_oh = pd.get_dummies(df2_le['Age_Gr'])\n",
        "print(df2_age_oh)"
      ]
    },
    {
      "cell_type": "code",
      "execution_count": 18,
      "metadata": {
        "id": "2VoAF6kusdW_"
      },
      "outputs": [],
      "source": [
        "# dropped original column Age_Gr\n",
        "df2_le_copy = df2_le.drop(columns=['Age_Gr'])\n",
        "\n",
        "# added one-hot encoded columns to preprocessed data\n",
        "df2_oh = df2_le_copy.join(df2_age_oh)"
      ]
    },
    {
      "cell_type": "code",
      "execution_count": 19,
      "metadata": {
        "colab": {
          "base_uri": "https://localhost:8080/",
          "height": 206
        },
        "id": "LZDrD65xVqgv",
        "outputId": "4335aeed-ac12-4415-e921-786ac37cb993"
      },
      "outputs": [
        {
          "data": {
            "text/html": [
              "<div>\n",
              "<style scoped>\n",
              "    .dataframe tbody tr th:only-of-type {\n",
              "        vertical-align: middle;\n",
              "    }\n",
              "\n",
              "    .dataframe tbody tr th {\n",
              "        vertical-align: top;\n",
              "    }\n",
              "\n",
              "    .dataframe thead th {\n",
              "        text-align: right;\n",
              "    }\n",
              "</style>\n",
              "<table border=\"1\" class=\"dataframe\">\n",
              "  <thead>\n",
              "    <tr style=\"text-align: right;\">\n",
              "      <th></th>\n",
              "      <th>Year</th>\n",
              "      <th>Quarter</th>\n",
              "      <th>LGA</th>\n",
              "      <th>Sex</th>\n",
              "      <th>TB_Cases</th>\n",
              "      <th>0 to 4</th>\n",
              "      <th>15 to 24</th>\n",
              "      <th>25 to 34</th>\n",
              "      <th>35 to 44</th>\n",
              "      <th>45 to 54</th>\n",
              "      <th>5 to 14</th>\n",
              "      <th>55 to 64</th>\n",
              "      <th>&gt; 65</th>\n",
              "    </tr>\n",
              "  </thead>\n",
              "  <tbody>\n",
              "    <tr>\n",
              "      <th>0</th>\n",
              "      <td>2019</td>\n",
              "      <td>1</td>\n",
              "      <td>0</td>\n",
              "      <td>1</td>\n",
              "      <td>0</td>\n",
              "      <td>1</td>\n",
              "      <td>0</td>\n",
              "      <td>0</td>\n",
              "      <td>0</td>\n",
              "      <td>0</td>\n",
              "      <td>0</td>\n",
              "      <td>0</td>\n",
              "      <td>0</td>\n",
              "    </tr>\n",
              "    <tr>\n",
              "      <th>1</th>\n",
              "      <td>2019</td>\n",
              "      <td>1</td>\n",
              "      <td>0</td>\n",
              "      <td>0</td>\n",
              "      <td>0</td>\n",
              "      <td>1</td>\n",
              "      <td>0</td>\n",
              "      <td>0</td>\n",
              "      <td>0</td>\n",
              "      <td>0</td>\n",
              "      <td>0</td>\n",
              "      <td>0</td>\n",
              "      <td>0</td>\n",
              "    </tr>\n",
              "    <tr>\n",
              "      <th>2</th>\n",
              "      <td>2019</td>\n",
              "      <td>2</td>\n",
              "      <td>0</td>\n",
              "      <td>1</td>\n",
              "      <td>0</td>\n",
              "      <td>1</td>\n",
              "      <td>0</td>\n",
              "      <td>0</td>\n",
              "      <td>0</td>\n",
              "      <td>0</td>\n",
              "      <td>0</td>\n",
              "      <td>0</td>\n",
              "      <td>0</td>\n",
              "    </tr>\n",
              "    <tr>\n",
              "      <th>3</th>\n",
              "      <td>2019</td>\n",
              "      <td>2</td>\n",
              "      <td>0</td>\n",
              "      <td>0</td>\n",
              "      <td>0</td>\n",
              "      <td>1</td>\n",
              "      <td>0</td>\n",
              "      <td>0</td>\n",
              "      <td>0</td>\n",
              "      <td>0</td>\n",
              "      <td>0</td>\n",
              "      <td>0</td>\n",
              "      <td>0</td>\n",
              "    </tr>\n",
              "    <tr>\n",
              "      <th>4</th>\n",
              "      <td>2019</td>\n",
              "      <td>3</td>\n",
              "      <td>0</td>\n",
              "      <td>1</td>\n",
              "      <td>0</td>\n",
              "      <td>1</td>\n",
              "      <td>0</td>\n",
              "      <td>0</td>\n",
              "      <td>0</td>\n",
              "      <td>0</td>\n",
              "      <td>0</td>\n",
              "      <td>0</td>\n",
              "      <td>0</td>\n",
              "    </tr>\n",
              "  </tbody>\n",
              "</table>\n",
              "</div>"
            ],
            "text/plain": [
              "   Year  Quarter  LGA  Sex  TB_Cases  0 to 4  15 to 24  25 to 34  35 to 44  \\\n",
              "0  2019        1    0    1         0       1         0         0         0   \n",
              "1  2019        1    0    0         0       1         0         0         0   \n",
              "2  2019        2    0    1         0       1         0         0         0   \n",
              "3  2019        2    0    0         0       1         0         0         0   \n",
              "4  2019        3    0    1         0       1         0         0         0   \n",
              "\n",
              "   45 to 54  5 to 14  55 to 64  > 65  \n",
              "0         0        0         0     0  \n",
              "1         0        0         0     0  \n",
              "2         0        0         0     0  \n",
              "3         0        0         0     0  \n",
              "4         0        0         0     0  "
            ]
          },
          "execution_count": 19,
          "metadata": {},
          "output_type": "execute_result"
        }
      ],
      "source": [
        "df2_oh.head()"
      ]
    },
    {
      "cell_type": "code",
      "execution_count": 20,
      "metadata": {
        "colab": {
          "base_uri": "https://localhost:8080/",
          "height": 1000
        },
        "id": "DteBSTEpqwN0",
        "outputId": "8f5f686a-ca24-4b10-b196-9040a334a3bb"
      },
      "outputs": [
        {
          "data": {
            "text/plain": [
              "<AxesSubplot:>"
            ]
          },
          "execution_count": 20,
          "metadata": {},
          "output_type": "execute_result"
        },
        {
          "data": {
            "image/png": "[encoded data removed]",
            "text/plain": [
              "<Figure size 1080x1080 with 2 Axes>"
            ]
          },
          "metadata": {},
          "output_type": "display_data"
        }
      ],
      "source": [
        "# checked if newly created features are correlated or not\n",
        "fig  = plt.figure(figsize=(15,15))\n",
        "corr = df2_oh.corr()\n",
        "sns.heatmap(corr,annot=True)"
      ]
    },
    {
      "cell_type": "markdown",
      "metadata": {
        "id": "UhF4knB1uXt-"
      },
      "source": [
        "In clustering, the distance between different points is evaluation criteria, So scale of data plays significant role. It is necessary to standardise data before applying clustering model."
      ]
    },
    {
      "cell_type": "code",
      "execution_count": 21,
      "metadata": {
        "id": "qDAfaLOnWXvd"
      },
      "outputs": [],
      "source": [
        "ss_scaler = StandardScaler()\n",
        "df2_ss_scaled = ss_scaler.fit_transform(df2_oh)"
      ]
    },
    {
      "cell_type": "code",
      "execution_count": 22,
      "metadata": {
        "colab": {
          "base_uri": "https://localhost:8080/"
        },
        "id": "92TRFgl5fRgR",
        "outputId": "aaafcb7a-87a1-42d7-f899-f53a9018a393"
      },
      "outputs": [
        {
          "data": {
            "text/plain": [
              "array([[-1.41421356, -1.34164079, -1.6583124 , ..., -0.37796447,\n",
              "        -0.37796447, -0.37796447],\n",
              "       [-1.41421356, -1.34164079, -1.6583124 , ..., -0.37796447,\n",
              "        -0.37796447, -0.37796447],\n",
              "       [-1.41421356, -0.4472136 , -1.6583124 , ..., -0.37796447,\n",
              "        -0.37796447, -0.37796447],\n",
              "       ...,\n",
              "       [ 1.41421356,  0.4472136 ,  1.6583124 , ..., -0.37796447,\n",
              "        -0.37796447,  2.64575131],\n",
              "       [ 1.41421356,  1.34164079,  1.6583124 , ..., -0.37796447,\n",
              "        -0.37796447,  2.64575131],\n",
              "       [ 1.41421356,  1.34164079,  1.6583124 , ..., -0.37796447,\n",
              "        -0.37796447,  2.64575131]])"
            ]
          },
          "execution_count": 22,
          "metadata": {},
          "output_type": "execute_result"
        }
      ],
      "source": [
        "df2_ss_scaled"
      ]
    },
    {
      "cell_type": "code",
      "execution_count": 23,
      "metadata": {
        "id": "p1bkw6N7rNSY"
      },
      "outputs": [],
      "source": [
        "# Standardised the data\n",
        "mm_scaler = MinMaxScaler()\n",
        "df2_mm_scaled = mm_scaler.fit_transform(df2_oh)"
      ]
    },
    {
      "cell_type": "code",
      "execution_count": 24,
      "metadata": {
        "colab": {
          "base_uri": "https://localhost:8080/"
        },
        "id": "0VyzhyRlfYU_",
        "outputId": "d63b758c-466d-4af4-e15d-429e3398b590"
      },
      "outputs": [
        {
          "data": {
            "text/plain": [
              "array([[0.        , 0.        , 0.        , ..., 0.        , 0.        ,\n",
              "        0.        ],\n",
              "       [0.        , 0.        , 0.        , ..., 0.        , 0.        ,\n",
              "        0.        ],\n",
              "       [0.        , 0.33333333, 0.        , ..., 0.        , 0.        ,\n",
              "        0.        ],\n",
              "       ...,\n",
              "       [1.        , 0.66666667, 1.        , ..., 0.        , 0.        ,\n",
              "        1.        ],\n",
              "       [1.        , 1.        , 1.        , ..., 0.        , 0.        ,\n",
              "        1.        ],\n",
              "       [1.        , 1.        , 1.        , ..., 0.        , 0.        ,\n",
              "        1.        ]])"
            ]
          },
          "execution_count": 24,
          "metadata": {},
          "output_type": "execute_result"
        }
      ],
      "source": [
        "df2_mm_scaled"
      ]
    },
    {
      "cell_type": "markdown",
      "metadata": {
        "id": "GSMSCDL0VuJ7"
      },
      "source": [
        "## Model"
      ]
    },
    {
      "cell_type": "markdown",
      "metadata": {
        "id": "IvZQ7xOcVxgs"
      },
      "source": [
        "#### K-Means Clustering"
      ]
    },
    {
      "cell_type": "markdown",
      "metadata": {
        "id": "Uwgd-_mAvsOE"
      },
      "source": [
        "<p>In K-means, <strong>K stands for no. of clusters</strong> and is the most vital parameter for performance of the algorithm.</p>\n",
        "<p>The easiest way to find K in K Means is by using the <strong>elbow method</strong>. Plot the inertia at many different values of K. When the graph looks like an elbow, select that as an initial K value moving forward. This value K will need to be validated.</p>"
      ]
    },
    {
      "cell_type": "code",
      "execution_count": 25,
      "metadata": {
        "id": "hu4k1qUEeE15"
      },
      "outputs": [],
      "source": [
        "model = KMeans(init='k-means++',max_iter=300,n_init=10,random_state=32)\n",
        "visualizer = KElbowVisualizer(model,k=(3,10))"
      ]
    },
    {
      "cell_type": "code",
      "execution_count": 26,
      "metadata": {
        "colab": {
          "base_uri": "https://localhost:8080/",
          "height": 541
        },
        "id": "JjRfDPS4fHsl",
        "outputId": "b4e03c6c-a89a-460c-ac97-fb7eb8f73204"
      },
      "outputs": [
        {
          "data": {
            "image/png": "[encoded data removed]",
            "text/plain": [
              "<Figure size 576x396 with 2 Axes>"
            ]
          },
          "metadata": {},
          "output_type": "display_data"
        },
        {
          "data": {
            "text/plain": [
              "<AxesSubplot:title={'center':'Distortion Score Elbow for KMeans Clustering'}, xlabel='k', ylabel='distortion score'>"
            ]
          },
          "execution_count": 26,
          "metadata": {},
          "output_type": "execute_result"
        }
      ],
      "source": [
        "visualizer.fit(df2_ss_scaled)\n",
        "visualizer.show()"
      ]
    },
    {
      "cell_type": "code",
      "execution_count": 27,
      "metadata": {
        "colab": {
          "base_uri": "https://localhost:8080/"
        },
        "id": "MubXYbRdfIa8",
        "outputId": "c220c4e5-ee5d-4d9a-a153-030e27cdfb48"
      },
      "outputs": [
        {
          "data": {
            "text/plain": [
              "<AxesSubplot:title={'center':'Distortion Score Elbow for KMeans Clustering'}, xlabel='k', ylabel='distortion score'>"
            ]
          },
          "execution_count": 27,
          "metadata": {},
          "output_type": "execute_result"
        }
      ],
      "source": [
        "visualizer.fit(df2_mm_scaled)\n",
        "visualizer.show()"
      ]
    },
    {
      "cell_type": "code",
      "execution_count": 28,
      "metadata": {
        "colab": {
          "base_uri": "https://localhost:8080/",
          "height": 504
        },
        "id": "kCU3wEQl_iwT",
        "outputId": "d2e8ac71-e48a-4b71-e27e-cb4f6eae1a1e"
      },
      "outputs": [
        {
          "data": {
            "image/png": "[encoded data removed]",
            "text/plain": [
              "<Figure size 576x396 with 1 Axes>"
            ]
          },
          "metadata": {},
          "output_type": "display_data"
        }
      ],
      "source": [
        "# created container to store all possible inertias\n",
        "inertia = []\n",
        "\n",
        "# applied KMeans with k within range of 1 to 22 as maximum unique values present in the data[LGA].\n",
        "for i in range(1,23):\n",
        "  model = KMeans(n_clusters=i,init='k-means++',random_state=20)\n",
        "  model.fit(df2_ss_scaled)\n",
        "  inertia.append(model.inertia_)\n",
        "\n",
        "# plotted the inertias at different values of k\n",
        "sns.lineplot(x = range(1,23),\n",
        "         y =inertia,\n",
        "         marker = 'o',\n",
        "         markersize=10)\n",
        "plt.title('Elbow Method')\n",
        "plt.show()"
      ]
    },
    {
      "cell_type": "markdown",
      "metadata": {
        "id": "3Dg1_sLayaam"
      },
      "source": [
        "There seems to be two possible candidates for Elbow values i.e. **8 and 16** also every value after 8 seems like a good choice at a glance.\n",
        "<p> So, to find the optimal number of k to use for final clustering we will be using metric called <strong>silhouette score</strong></p>"
      ]
    },
    {
      "cell_type": "code",
      "execution_count": 29,
      "metadata": {
        "colab": {
          "base_uri": "https://localhost:8080/",
          "height": 504
        },
        "id": "rTATwg3pWNuw",
        "outputId": "ba3bbe51-b6ef-47ee-fb36-3a8bbf365b0c"
      },
      "outputs": [
        {
          "data": {
            "image/png": "[encoded data removed]",
            "text/plain": [
              "<Figure size 576x396 with 1 Axes>"
            ]
          },
          "metadata": {},
          "output_type": "display_data"
        }
      ],
      "source": [
        "inertia = []\n",
        "\n",
        "# applied KMeans with k within range of 1 to 22 as maximum unique values present in the data[LGA].\n",
        "for i in range(1,23):\n",
        "  model = KMeans(n_clusters=i,init='k-means++',random_state=20)\n",
        "  model.fit(df2_mm_scaled)\n",
        "  inertia.append(model.inertia_)\n",
        "\n",
        "# plotted the inertias at different values of k\n",
        "sns.lineplot(x = range(1,23),\n",
        "         y =inertia,\n",
        "         marker = 'o',\n",
        "         markersize=10)\n",
        "plt.title('Elbow Method')\n",
        "plt.show()"
      ]
    },
    {
      "cell_type": "markdown",
      "metadata": {
        "id": "-KWf6odky1F6"
      },
      "source": [
        "The **Silhouette score** in the K-Means clustering algorithm is **between -1 and 1**. This score represents how well the data point has been clustered, and scores above 0 are seen as good, while **negative points** mean your K-means algorithm has put that **data point in the wrong cluster**."
      ]
    },
    {
      "cell_type": "code",
      "execution_count": 30,
      "metadata": {
        "colab": {
          "base_uri": "https://localhost:8080/"
        },
        "id": "fuVLkhw5HEX_",
        "outputId": "5d971e28-c122-48a9-df13-b9ceac61ee34"
      },
      "outputs": [
        {
          "name": "stdout",
          "output_type": "stream",
          "text": [
            "0.22490302239024043\n"
          ]
        }
      ],
      "source": [
        "# let's check model performance for one of the candidate point.\n",
        "# k=20\n",
        "model = KMeans(n_clusters=20, init='k-means++',random_state=20)\n",
        "\n",
        "# re-fit our model\n",
        "model.fit(df2_ss_scaled)\n",
        "\n",
        "# compute an average silhouette score for each point\n",
        "silhouette_score_average = silhouette_score(df2_ss_scaled, model.predict(df2_ss_scaled))\n",
        "\n",
        "# lets see what that score it\n",
        "print(silhouette_score_average)"
      ]
    },
    {
      "cell_type": "code",
      "execution_count": 31,
      "metadata": {
        "colab": {
          "base_uri": "https://localhost:8080/"
        },
        "id": "atxxi65H0k3m",
        "outputId": "2350abaa-0beb-4c99-8b70-cbea874cd81a"
      },
      "outputs": [
        {
          "name": "stdout",
          "output_type": "stream",
          "text": [
            "We have found a negative silhouette score: -0.0026501540653463634\n",
            "We have found a negative silhouette score: -0.017059847554247668\n",
            "We have found a negative silhouette score: -0.010036853000765322\n",
            "We have found a negative silhouette score: -0.005812828824927856\n",
            "We have found a negative silhouette score: -0.015744032156093924\n",
            "We have found a negative silhouette score: -0.028562203524010423\n",
            "We have found a negative silhouette score: -0.0016572242074572312\n",
            "We have found a negative silhouette score: -0.018190759684491895\n",
            "We have found a negative silhouette score: -0.011389947143043293\n",
            "We have found a negative silhouette score: -0.005961855174697708\n",
            "We have found a negative silhouette score: -0.01840269104582561\n",
            "We have found a negative silhouette score: -0.03425033162266816\n",
            "We have found a negative silhouette score: -0.0006959639240414636\n",
            "We have found a negative silhouette score: -0.018029287401838495\n",
            "We have found a negative silhouette score: -0.01139767775672172\n",
            "We have found a negative silhouette score: -0.005344656792255415\n",
            "We have found a negative silhouette score: -0.019174900744307877\n",
            "We have found a negative silhouette score: -0.036464253207096925\n",
            "We have found a negative silhouette score: -6.248596073634369e-05\n",
            "We have found a negative silhouette score: -0.016365555089206996\n",
            "We have found a negative silhouette score: -0.010596481241409826\n",
            "We have found a negative silhouette score: -0.004153618653832481\n",
            "We have found a negative silhouette score: -0.017443415067083728\n",
            "We have found a negative silhouette score: -0.03372019149819366\n",
            "We have found a negative silhouette score: -0.0005823094612624775\n",
            "We have found a negative silhouette score: -0.013995090422852666\n",
            "We have found a negative silhouette score: -0.005359722978937244\n",
            "We have found a negative silhouette score: -0.00306996779987816\n",
            "We have found a negative silhouette score: -0.013808311766138618\n",
            "We have found a negative silhouette score: -0.0272120650351715\n",
            "We have found a negative silhouette score: -0.12512067674357424\n",
            "We have found a negative silhouette score: -0.040785512776987505\n",
            "We have found a negative silhouette score: -0.031501478251302416\n",
            "We have found a negative silhouette score: -0.05548532310238171\n",
            "We have found a negative silhouette score: -0.06775705446084497\n",
            "We have found a negative silhouette score: -0.10427279742642505\n",
            "We have found a negative silhouette score: -0.04168403159105859\n",
            "We have found a negative silhouette score: -0.08154559994975374\n",
            "We have found a negative silhouette score: -0.028751160152190848\n",
            "We have found a negative silhouette score: -0.03989655378340553\n",
            "We have found a negative silhouette score: -0.07812628071999507\n",
            "We have found a negative silhouette score: -0.0850814323955216\n",
            "We have found a negative silhouette score: -0.10521603226654487\n",
            "We have found a negative silhouette score: -0.03825885843985829\n",
            "We have found a negative silhouette score: -0.1485025634061634\n",
            "We have found a negative silhouette score: -0.03995203738491077\n",
            "We have found a negative silhouette score: -0.03585474437851376\n",
            "We have found a negative silhouette score: -0.042571541908480275\n",
            "We have found a negative silhouette score: -0.012501367757292233\n",
            "We have found a negative silhouette score: -0.046122632967035074\n",
            "We have found a negative silhouette score: -0.053691489393385396\n",
            "We have found a negative silhouette score: -0.050194244925296734\n",
            "We have found a negative silhouette score: -0.054251856222559514\n",
            "We have found a negative silhouette score: -0.050481295598864905\n",
            "We have found a negative silhouette score: -0.0009546228218212304\n",
            "We have found a negative silhouette score: -0.038560592130345045\n",
            "We have found a negative silhouette score: -0.0035808605267020266\n",
            "We have found a negative silhouette score: -0.014017060365451478\n",
            "We have found a negative silhouette score: -0.047057918757814586\n",
            "We have found a negative silhouette score: -0.03451577985429173\n",
            "We have found a negative silhouette score: -0.007877658891141762\n",
            "We have found a negative silhouette score: -0.03831720430198425\n",
            "We have found a negative silhouette score: -0.0823209827917695\n",
            "We have found a negative silhouette score: -0.061957064406757016\n",
            "We have found a negative silhouette score: -0.0034924681379414077\n",
            "We have found a negative silhouette score: -0.017736284368647003\n",
            "We have found a negative silhouette score: -0.06811304275737078\n",
            "We have found a negative silhouette score: -0.05048849991281795\n",
            "We have found a negative silhouette score: -0.0723417644275503\n",
            "We have found a negative silhouette score: -0.060670686649396434\n",
            "We have found a negative silhouette score: -0.049307608428945944\n",
            "We have found a negative silhouette score: -0.009382835672362538\n",
            "We have found a negative silhouette score: -0.05270952188742603\n",
            "We have found a negative silhouette score: -0.04203587401034624\n",
            "We have found a negative silhouette score: -0.053319903423080246\n",
            "We have found a negative silhouette score: -0.08035744889671989\n",
            "We have found a negative silhouette score: -0.042951871694485305\n",
            "We have found a negative silhouette score: -0.08988123343341821\n",
            "We have found a negative silhouette score: -0.030625867027404205\n",
            "We have found a negative silhouette score: -0.025928595045743765\n",
            "We have found a negative silhouette score: -0.021180754280179775\n",
            "We have found a negative silhouette score: -0.007151180863445559\n",
            "We have found a negative silhouette score: -0.024580831024316564\n",
            "We have found a negative silhouette score: -0.043682186983530685\n",
            "We have found a negative silhouette score: -0.036364513112743975\n",
            "We have found a negative silhouette score: -0.010644726072136894\n",
            "We have found a negative silhouette score: -0.011143563738125022\n",
            "We have found a negative silhouette score: -0.13378525070737396\n",
            "We have found a negative silhouette score: -0.028470963768009692\n",
            "We have found a negative silhouette score: -0.026484325850872882\n",
            "We have found a negative silhouette score: -0.03208870976263219\n",
            "We have found a negative silhouette score: -0.0556207662347049\n",
            "We have found a negative silhouette score: -0.021969401358786746\n",
            "We have found a negative silhouette score: -0.03526799998652681\n"
          ]
        }
      ],
      "source": [
        "# while that's nice, what does that tell us? there could still be a points with a negative value\n",
        "\n",
        "# let's see the points\n",
        "silhouette_score_individual = silhouette_samples(df2_ss_scaled, model.predict(df2_ss_scaled))\n",
        "\n",
        "\n",
        "# iterate through to find any negative values\n",
        "for each_value in silhouette_score_individual:\n",
        "    if each_value < 0:\n",
        "        print(f'We have found a negative silhouette score: {each_value}')"
      ]
    },
    {
      "cell_type": "markdown",
      "metadata": {
        "id": "22li1Vtu0_nY"
      },
      "source": [
        "As we can see. there are lot of negative individual scores. so having only good silhouette score is not ideal we need to minimize count of negative values also."
      ]
    },
    {
      "cell_type": "markdown",
      "metadata": {
        "id": "8Les6vKTa-zD"
      },
      "source": [
        "lets check for other k-candidates also"
      ]
    },
    {
      "cell_type": "code",
      "execution_count": 32,
      "metadata": {
        "colab": {
          "base_uri": "https://localhost:8080/"
        },
        "id": "lsF2oxK1ISR3",
        "outputId": "821f5f2a-00ff-4028-f94c-3ae138f02e9b"
      },
      "outputs": [
        {
          "name": "stdout",
          "output_type": "stream",
          "text": [
            "k =  8 :\n",
            "k =  9 :\n",
            "k =  10 :\n",
            "k =  11 :\n",
            "k =  12 :\n",
            "k =  13 :\n",
            "k =  14 :\n",
            "k =  15 :\n",
            "k =  16 :\n",
            "k =  17 :\n",
            "k =  18 :\n",
            "k =  19 :\n",
            "k =  20 :\n",
            "k =  21 :\n",
            "k =  22 :\n"
          ]
        }
      ],
      "source": [
        "bad_k_values = {}\n",
        "silhouette_scores = {}\n",
        "for i in range(8,23):\n",
        "  model = KMeans(n_clusters=i,init='k-means++',random_state=20)\n",
        "  model.fit(df2_ss_scaled)\n",
        "  silhouette_scores[i]= silhouette_score(df2_ss_scaled,model.predict(df2_ss_scaled))\n",
        "\n",
        "  silhouette_score_individual = silhouette_samples(df2_ss_scaled,model.predict(df2_ss_scaled))\n",
        "\n",
        "  # iterate through to find any negative values\n",
        "  print(\"k = \", i,\":\")\n",
        "\n",
        "  for score in silhouette_score_individual:\n",
        "    if score <0:\n",
        "      if i not in bad_k_values:\n",
        "        bad_k_values[i]= 1\n",
        "      else:\n",
        "        bad_k_values[i] +=1"
      ]
    },
    {
      "cell_type": "code",
      "execution_count": 33,
      "metadata": {
        "colab": {
          "base_uri": "https://localhost:8080/"
        },
        "id": "nvjdNpofIxPj",
        "outputId": "6d655487-7b8f-4d0b-fe9e-43a1a6fe4859"
      },
      "outputs": [
        {
          "name": "stdout",
          "output_type": "stream",
          "text": [
            "{8: 1, 9: 45, 10: 43, 11: 50, 12: 83, 13: 82, 14: 65, 15: 54, 16: 49, 17: 64, 18: 65, 19: 40, 20: 94, 21: 55, 22: 78}\n",
            "{8: 0.43775433471801817, 9: 0.44509236267279284, 10: 0.40316558619380255, 11: 0.37818865761535925, 12: 0.3526664810143865, 13: 0.3292309054441699, 14: 0.28545796319419664, 15: 0.2703331210855751, 16: 0.24200288981132692, 17: 0.24606820536324334, 18: 0.2363056988826531, 19: 0.23448657453649677, 20: 0.22490302239024043, 21: 0.23194881062949518, 22: 0.23960379688041786}\n"
          ]
        }
      ],
      "source": [
        "print(bad_k_values)\n",
        "print(silhouette_scores)"
      ]
    },
    {
      "cell_type": "markdown",
      "metadata": {
        "id": "FK4mjjAD1ht-"
      },
      "source": [
        "while k=9 have highest silhouette avg. the negative score count is significant compared to k=8 with second highest silhouette score and with one negative individual score."
      ]
    },
    {
      "cell_type": "markdown",
      "metadata": {
        "id": "2IjZiQ_WcDbq"
      },
      "source": [
        "So. we will use k=8 for our model"
      ]
    },
    {
      "cell_type": "code",
      "execution_count": 34,
      "metadata": {
        "colab": {
          "base_uri": "https://localhost:8080/",
          "height": 559
        },
        "id": "lP8UyPElnVFT",
        "outputId": "d8755d4d-0f7c-4dea-9523-92e8051a2e31"
      },
      "outputs": [
        {
          "data": {
            "image/png": "[encoded data removed]",
            "text/plain": [
              "<Figure size 576x396 with 1 Axes>"
            ]
          },
          "metadata": {},
          "output_type": "display_data"
        },
        {
          "data": {
            "text/plain": [
              "<AxesSubplot:title={'center':'Silhouette Plot of KMeans Clustering for 7360 Samples in 8 Centers'}, xlabel='silhouette coefficient values', ylabel='cluster label'>"
            ]
          },
          "execution_count": 34,
          "metadata": {},
          "output_type": "execute_result"
        }
      ],
      "source": [
        "from yellowbrick.cluster import SilhouetteVisualizer\n",
        "\n",
        "# Instantiate the clustering model and visualizer\n",
        "model = KMeans(8, init='k-means++', max_iter=300, n_init=10, random_state=42)\n",
        "visualizer = SilhouetteVisualizer(model, colors='yellowbrick')\n",
        "\n",
        "visualizer.fit(df2_ss_scaled)        # Fit the data to the visualizer\n",
        "visualizer.show()        # Finalize and render the figure"
      ]
    },
    {
      "cell_type": "code",
      "execution_count": 35,
      "metadata": {
        "colab": {
          "base_uri": "https://localhost:8080/"
        },
        "id": "mYzo-4ducZWO",
        "outputId": "f719b71b-c003-4e47-d14a-33c96ae50c9a"
      },
      "outputs": [
        {
          "name": "stdout",
          "output_type": "stream",
          "text": [
            "k =  8 :\n",
            "k =  9 :\n",
            "k =  10 :\n",
            "k =  11 :\n",
            "k =  12 :\n",
            "k =  13 :\n",
            "k =  14 :\n",
            "k =  15 :\n",
            "k =  16 :\n",
            "k =  17 :\n",
            "k =  18 :\n",
            "k =  19 :\n",
            "k =  20 :\n",
            "k =  21 :\n",
            "k =  22 :\n"
          ]
        }
      ],
      "source": [
        "bad_k_values = {}\n",
        "silhouette_scores = {}\n",
        "for i in range(8,23):\n",
        "  model = KMeans(n_clusters=i,init='k-means++',random_state=20)\n",
        "  model.fit(df2_mm_scaled)\n",
        "  silhouette_scores[i]= silhouette_score(df2_mm_scaled,model.predict(df2_mm_scaled))\n",
        "\n",
        "  silhouette_score_individual = silhouette_samples(df2_mm_scaled,model.predict(df2_mm_scaled))\n",
        "\n",
        "  # iterate through to find any negative values\n",
        "  print(\"k = \", i,\":\")\n",
        "\n",
        "  for score in silhouette_score_individual:\n",
        "    if score <0:\n",
        "      if i not in bad_k_values:\n",
        "        bad_k_values[i]= 1\n",
        "      else:\n",
        "        bad_k_values[i] +=1"
      ]
    },
    {
      "cell_type": "code",
      "execution_count": 36,
      "metadata": {
        "colab": {
          "base_uri": "https://localhost:8080/"
        },
        "id": "Ebz1IcBqhmXJ",
        "outputId": "e1609bbf-dc5c-4524-d160-ef58ccb01059"
      },
      "outputs": [
        {
          "name": "stdout",
          "output_type": "stream",
          "text": [
            "{}\n",
            "{8: 0.4121305454833786, 9: 0.3657081571417639, 10: 0.3687729716112668, 11: 0.37200340090856726, 12: 0.3752237962165977, 13: 0.3782835330330226, 14: 0.3816953327853826, 15: 0.3851065917695081, 16: 0.3885376914682366, 17: 0.3796673861923959, 18: 0.37051348277314866, 19: 0.36177248321789374, 20: 0.35279179361885615, 21: 0.34400208121747916, 22: 0.3384632659876215}\n"
          ]
        }
      ],
      "source": [
        "print(bad_k_values)\n",
        "print(silhouette_scores)"
      ]
    },
    {
      "cell_type": "code",
      "execution_count": 37,
      "metadata": {
        "id": "XHQ52qOGI_ip"
      },
      "outputs": [],
      "source": [
        "# final clustering using optimal k\n",
        "final_model = KMeans(n_clusters=8,init='k-means++',random_state=20)\n",
        "final_model.fit(df2_ss_scaled)\n",
        "labels = final_model.labels_"
      ]
    },
    {
      "cell_type": "code",
      "execution_count": 38,
      "metadata": {
        "id": "p4jngtAzi7aK"
      },
      "outputs": [],
      "source": [
        "final_model.fit(df2_mm_scaled)\n",
        "mm_labels = final_model.labels_"
      ]
    },
    {
      "cell_type": "code",
      "execution_count": 39,
      "metadata": {
        "colab": {
          "base_uri": "https://localhost:8080/",
          "height": 241
        },
        "id": "kdfm1zJKilrb",
        "outputId": "56b04006-ad80-4065-c592-296c65f19d25"
      },
      "outputs": [],
      "source": [
        "df_final = df2_oh.copy()\n",
        "df_final['km_ss_clusters'] = labels\n",
        "df_final['km_mm_clusters'] = mm_labels\n",
        "\n",
        "# df_final.head()"
      ]
    },
    {
      "cell_type": "markdown",
      "metadata": {
        "id": "1f1vVv9HoVwF"
      },
      "source": [
        "#### DBCSAN"
      ]
    },
    {
      "cell_type": "markdown",
      "metadata": {
        "id": "sPJwUia6co-S"
      },
      "source": [
        "[refer1](https://www.analyticsvidhya.com/blog/2020/09/how-dbscan-clustering-works/)"
      ]
    },
    {
      "cell_type": "code",
      "execution_count": 43,
      "metadata": {
        "id": "pN2rUjGCoUrV"
      },
      "outputs": [],
      "source": [
        "from sklearn.neighbors import NearestNeighbors\n",
        "neigh = NearestNeighbors(n_neighbors=2)\n",
        "nbrs = neigh.fit(df2_ss_scaled)\n",
        "distances, indices = nbrs.kneighbors(df2_ss_scaled)"
      ]
    },
    {
      "cell_type": "code",
      "execution_count": 44,
      "metadata": {
        "colab": {
          "base_uri": "https://localhost:8080/",
          "height": 522
        },
        "id": "NvmkxZVpdas4",
        "outputId": "d4e41d3a-0662-4ca0-c472-470a55f4ec1a"
      },
      "outputs": [
        {
          "data": {
            "image/png": "[encoded data removed]",
            "text/plain": [
              "<Figure size 1440x720 with 1 Axes>"
            ]
          },
          "metadata": {},
          "output_type": "display_data"
        }
      ],
      "source": [
        "# Plotting K-distance Graph\n",
        "distances = np.sort(distances, axis=0)\n",
        "distances = distances[:,1]\n",
        "plt.figure(figsize=(20,10))\n",
        "plt.plot(distances)\n",
        "plt.title('K-distance Graph',fontsize=20)\n",
        "plt.xlabel('Data Points sorted by distance',fontsize=14)\n",
        "plt.ylabel('Epsilon',fontsize=14)\n",
        "# plt.yticks(minor=True)\n",
        "plt.show()"
      ]
    },
    {
      "cell_type": "code",
      "execution_count": 45,
      "metadata": {
        "id": "8a-NhjT-dy6n"
      },
      "outputs": [],
      "source": [
        "def tune_dbscan(data,eps_values,min_samples_values):\n",
        "  best_score = -1\n",
        "  best_params = None\n",
        "  best_labels = None\n",
        "\n",
        "  for eps in eps_values:\n",
        "    for min_samples in min_samples_values:\n",
        "      model = DBSCAN(eps=eps,min_samples=min_samples)\n",
        "      labels = model.fit_predict(data)\n",
        "\n",
        "      if len(np.unique(labels)) >1:\n",
        "        score = silhouette_score(data,labels)\n",
        "        if score > best_score:\n",
        "          best_score=score\n",
        "          best_params = {'eps':eps,'min_samples':min_samples}\n",
        "          best_labels=labels\n",
        "\n",
        "  return best_params, best_score, best_labels"
      ]
    },
    {
      "cell_type": "code",
      "execution_count": 46,
      "metadata": {
        "id": "_bB7LCv1f3ol"
      },
      "outputs": [],
      "source": [
        "eps_values = [0.7,0.8,0.9,1.0,1.1]\n",
        "min_samples_values= [13,15,18,20,22,24]\n",
        "best_ss_params, best_ss_score, best_ss_labels = tune_dbscan(df2_ss_scaled,eps_values,min_samples_values)"
      ]
    },
    {
      "cell_type": "code",
      "execution_count": 47,
      "metadata": {
        "colab": {
          "base_uri": "https://localhost:8080/"
        },
        "id": "kBcvLDSghxuU",
        "outputId": "e4fa349a-0ca8-4620-c86d-d16fa4f8c74b"
      },
      "outputs": [
        {
          "name": "stdout",
          "output_type": "stream",
          "text": [
            "{'eps': 1.1, 'min_samples': 13}\n",
            "0.2283696647936841\n"
          ]
        }
      ],
      "source": [
        "print(best_ss_params)\n",
        "print(best_ss_score)"
      ]
    },
    {
      "cell_type": "code",
      "execution_count": 48,
      "metadata": {
        "id": "Y6QqFvKBirLD"
      },
      "outputs": [],
      "source": [
        "eps_values = [0.7,0.8,0.9,1.0,1.1]\n",
        "min_samples_values= [13,15,18,20,22,24]\n",
        "best_mm_params, best_mm_score, best_mm_labels = tune_dbscan(df2_mm_scaled,eps_values,min_samples_values)"
      ]
    },
    {
      "cell_type": "code",
      "execution_count": 49,
      "metadata": {
        "colab": {
          "base_uri": "https://localhost:8080/"
        },
        "id": "5wVmHjbWixIt",
        "outputId": "f6ec2cfd-c0a6-4d27-c394-5560f48dcc9f"
      },
      "outputs": [
        {
          "name": "stdout",
          "output_type": "stream",
          "text": [
            "{'eps': 1.0, 'min_samples': 13}\n",
            "0.4121305454833786\n"
          ]
        }
      ],
      "source": [
        "print(best_mm_params)\n",
        "print(best_mm_score)"
      ]
    },
    {
      "cell_type": "code",
      "execution_count": 50,
      "metadata": {
        "id": "LtTuzeNJieC0"
      },
      "outputs": [],
      "source": [
        "df_final['db_ss_clusters'] = best_ss_labels\n",
        "df_final['db_mm_clusters'] = best_mm_labels"
      ]
    },
    {
      "cell_type": "markdown",
      "metadata": {
        "id": "MmPokr_gyU_M"
      },
      "source": [
        "#### GMM"
      ]
    },
    {
      "cell_type": "markdown",
      "metadata": {
        "id": "LL6XCFT9yYRF"
      },
      "source": [
        "[refer1](https://jakevdp.github.io/PythonDataScienceHandbook/05.12-gaussian-mixtures.html)"
      ]
    },
    {
      "cell_type": "code",
      "execution_count": 51,
      "metadata": {
        "colab": {
          "base_uri": "https://localhost:8080/"
        },
        "id": "kcvtz1dDyXZ7",
        "outputId": "fdd82b55-035e-4132-ce2f-6a9bc8a9fa84"
      },
      "outputs": [
        {
          "name": "stdout",
          "output_type": "stream",
          "text": [
            "Log-likelihood score for 2 clusters : 17.03640548465611\n",
            "Log-likelihood score for 3 clusters : 26.0832688285719\n",
            "Log-likelihood score for 4 clusters : 31.707137222390575\n",
            "Log-likelihood score for 5 clusters : 33.57946221545599\n",
            "Log-likelihood score for 6 clusters : 35.41478118660317\n",
            "Log-likelihood score for 7 clusters : 37.33371050176252\n",
            "Log-likelihood score for 8 clusters : 39.207453744176085\n",
            "Log-likelihood score for 9 clusters : 39.405414936879005\n",
            "Log-likelihood score for 10 clusters : 40.89199988276131\n",
            "Log-likelihood score for 11 clusters : 40.996665460374075\n",
            "Log-likelihood score for 12 clusters : 41.40763707730683\n",
            "Log-likelihood score for 13 clusters : 41.303422772825684\n",
            "Log-likelihood score for 14 clusters : 42.012614939058196\n",
            "Log-likelihood score for 15 clusters : 42.38452753259639\n",
            "Log-likelihood score for 16 clusters : 42.84205348524429\n",
            "Log-likelihood score for 17 clusters : 43.30549756484479\n",
            "Log-likelihood score for 18 clusters : 43.27585750974978\n",
            "Log-likelihood score for 19 clusters : 42.92548750277363\n",
            "Log-likelihood score for 20 clusters : 45.40065037722874\n",
            "Log-likelihood score for 21 clusters : 44.67294936182736\n",
            "Log-likelihood score for 22 clusters : 45.05581706988937\n"
          ]
        }
      ],
      "source": [
        "gm_aic =[]\n",
        "gm_bic =[]\n",
        "gm_score =[]\n",
        "\n",
        "for i in range(2,23):\n",
        "  gm = GaussianMixture(n_components=i,n_init=10,init_params='k-means++',max_iter=400,random_state=19).fit(df2_ss_scaled)\n",
        "  gm_bic.append(gm.bic(df2_ss_scaled))\n",
        "  gm_aic.append(gm.aic(df2_ss_scaled))\n",
        "  print(f'Log-likelihood score for {i} clusters : {gm.score(df2_ss_scaled)}')"
      ]
    },
    {
      "cell_type": "code",
      "execution_count": 52,
      "metadata": {
        "colab": {
          "base_uri": "https://localhost:8080/"
        },
        "id": "CkFGtHRj2XtN",
        "outputId": "d10b17fc-01b6-49fe-8824-2a19d2ce8867"
      },
      "outputs": [
        {
          "name": "stdout",
          "output_type": "stream",
          "text": [
            "[-250357.88873413796, -383317.7171565784, -465891.05991358927, -493241.6838115122, -520047.5790667987, -548084.2185859443, -575455.7191142719, -578159.707870859, -599832.2382742465, -601162.9155767064, -607002.4177779566, -605258.3832159941, -615487.6919029367, -620752.2452798188, -627277.027302796, -633888.9241545154, -633242.6225435167, -627875.1760408278, -664099.5735528071, -653177.8146060987, -658603.6272687715]\n",
            "[-248914.99135488787, -381149.9191800974, -462998.36133987736, -489624.0846405694, -515705.07929862494, -543016.8182205396, -569663.4181516364, -571642.5063109925, -592590.1361171491, -593195.9128223781, -598310.5144263974, -595841.579267204, -605345.9873569157, -609885.640136567, -615685.5215623132, -621572.5178168017, -620201.3156085721, -614108.9685086523, -649608.4654234006, -637961.8058794613, -642662.7179449033]\n"
          ]
        }
      ],
      "source": [
        "print(gm_aic)\n",
        "print(gm_bic)"
      ]
    },
    {
      "cell_type": "code",
      "execution_count": 53,
      "metadata": {
        "id": "gf0VRS8o2lsc"
      },
      "outputs": [],
      "source": [
        "gm_ss = GaussianMixture(n_components=8,\n",
        "                     n_init=10,\n",
        "                     covariance_type=\"full\",\n",
        "                     init_params=\"k-means++\",\n",
        "                     max_iter=400,\n",
        "                     random_state=28).fit(df2_ss_scaled)\n",
        "\n",
        "pred_gm_ss = gm_ss.predict(df2_ss_scaled)"
      ]
    },
    {
      "cell_type": "code",
      "execution_count": 54,
      "metadata": {
        "id": "wLaKC5-z4Lro"
      },
      "outputs": [],
      "source": [
        "gm_mm = GaussianMixture(n_components=8,\n",
        "                     n_init=10,\n",
        "                     covariance_type=\"full\",\n",
        "                     init_params=\"k-means++\",\n",
        "                     max_iter=400,\n",
        "                     random_state=28).fit(df2_mm_scaled)\n",
        "\n",
        "pred_gm_mm = gm_ss.predict(df2_mm_scaled)"
      ]
    },
    {
      "cell_type": "code",
      "execution_count": 55,
      "metadata": {},
      "outputs": [
        {
          "name": "stdout",
          "output_type": "stream",
          "text": [
            "for StandardScaler, Silhouette Score: 0.4377348060376814\n",
            "for MinMaxScaler, Silhouette Score: 0.4121305454833786\n"
          ]
        }
      ],
      "source": [
        "print(\"for StandardScaler, Silhouette Score:\",silhouette_score(df2_ss_scaled,pred_gm_ss))\n",
        "print(\"for MinMaxScaler, Silhouette Score:\",silhouette_score(df2_mm_scaled,pred_gm_mm))"
      ]
    },
    {
      "cell_type": "code",
      "execution_count": 56,
      "metadata": {
        "id": "RSB9ggLa_l0Y"
      },
      "outputs": [],
      "source": [
        "df_final['gm_ss_clusters'] = pred_gm_ss\n",
        "df_final['gm_mm_clusters'] = pred_gm_mm"
      ]
    },
    {
      "cell_type": "code",
      "execution_count": 57,
      "metadata": {
        "colab": {
          "base_uri": "https://localhost:8080/",
          "height": 206
        },
        "id": "htsSYFEXAAhz",
        "outputId": "b1465206-7f03-47be-d227-f5ecc371b38a"
      },
      "outputs": [
        {
          "data": {
            "text/html": [
              "<div>\n",
              "<style scoped>\n",
              "    .dataframe tbody tr th:only-of-type {\n",
              "        vertical-align: middle;\n",
              "    }\n",
              "\n",
              "    .dataframe tbody tr th {\n",
              "        vertical-align: top;\n",
              "    }\n",
              "\n",
              "    .dataframe thead th {\n",
              "        text-align: right;\n",
              "    }\n",
              "</style>\n",
              "<table border=\"1\" class=\"dataframe\">\n",
              "  <thead>\n",
              "    <tr style=\"text-align: right;\">\n",
              "      <th></th>\n",
              "      <th>km_ss_clusters</th>\n",
              "      <th>km_mm_clusters</th>\n",
              "      <th>db_ss_clusters</th>\n",
              "      <th>db_mm_clusters</th>\n",
              "      <th>gm_ss_clusters</th>\n",
              "      <th>gm_mm_clusters</th>\n",
              "    </tr>\n",
              "  </thead>\n",
              "  <tbody>\n",
              "    <tr>\n",
              "      <th>0</th>\n",
              "      <td>1</td>\n",
              "      <td>6</td>\n",
              "      <td>0</td>\n",
              "      <td>0</td>\n",
              "      <td>7</td>\n",
              "      <td>7</td>\n",
              "    </tr>\n",
              "    <tr>\n",
              "      <th>1</th>\n",
              "      <td>1</td>\n",
              "      <td>6</td>\n",
              "      <td>1</td>\n",
              "      <td>0</td>\n",
              "      <td>7</td>\n",
              "      <td>7</td>\n",
              "    </tr>\n",
              "    <tr>\n",
              "      <th>2</th>\n",
              "      <td>1</td>\n",
              "      <td>6</td>\n",
              "      <td>0</td>\n",
              "      <td>0</td>\n",
              "      <td>7</td>\n",
              "      <td>7</td>\n",
              "    </tr>\n",
              "    <tr>\n",
              "      <th>3</th>\n",
              "      <td>1</td>\n",
              "      <td>6</td>\n",
              "      <td>1</td>\n",
              "      <td>0</td>\n",
              "      <td>7</td>\n",
              "      <td>7</td>\n",
              "    </tr>\n",
              "    <tr>\n",
              "      <th>4</th>\n",
              "      <td>1</td>\n",
              "      <td>6</td>\n",
              "      <td>0</td>\n",
              "      <td>0</td>\n",
              "      <td>7</td>\n",
              "      <td>7</td>\n",
              "    </tr>\n",
              "  </tbody>\n",
              "</table>\n",
              "</div>"
            ],
            "text/plain": [
              "   km_ss_clusters  km_mm_clusters  db_ss_clusters  db_mm_clusters  \\\n",
              "0               1               6               0               0   \n",
              "1               1               6               1               0   \n",
              "2               1               6               0               0   \n",
              "3               1               6               1               0   \n",
              "4               1               6               0               0   \n",
              "\n",
              "   gm_ss_clusters  gm_mm_clusters  \n",
              "0               7               7  \n",
              "1               7               7  \n",
              "2               7               7  \n",
              "3               7               7  \n",
              "4               7               7  "
            ]
          },
          "execution_count": 57,
          "metadata": {},
          "output_type": "execute_result"
        }
      ],
      "source": [
        "df_final[['km_ss_clusters','km_mm_clusters','db_ss_clusters','db_mm_clusters','gm_ss_clusters','gm_mm_clusters']].head()"
      ]
    }
  ],
  "metadata": {
    "colab": {
      "provenance": []
    },
    "kernelspec": {
      "display_name": "Python 3",
      "name": "python3"
    },
    "language_info": {
      "codemirror_mode": {
        "name": "ipython",
        "version": 3
      },
      "file_extension": ".py",
      "mimetype": "text/x-python",
      "name": "python",
      "nbconvert_exporter": "python",
      "pygments_lexer": "ipython3",
      "version": "3.8.6"
    }
  },
  "nbformat": 4,
  "nbformat_minor": 0
}
